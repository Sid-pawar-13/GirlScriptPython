{
 "metadata": {
  "language_info": {
   "codemirror_mode": {
    "name": "ipython",
    "version": 3
   },
   "file_extension": ".py",
   "mimetype": "text/x-python",
   "name": "python",
   "nbconvert_exporter": "python",
   "pygments_lexer": "ipython3",
   "version": "3.7.8-candidate"
  },
  "orig_nbformat": 2,
  "kernelspec": {
   "name": "python3",
   "display_name": "Python 3.7.8 64-bit",
   "metadata": {
    "interpreter": {
     "hash": "2661fe8998ba1d39239e83ab1b820ea0d7cbfc09746e6db3382a3752a2b331b3"
    }
   }
  }
 },
 "nbformat": 4,
 "nbformat_minor": 2,
 "cells": [
  {
   "source": [
    "Write a program that accepts a sequence of whitespace separated words as input and prints the words \n",
    "after removing all duplicate words and sorting them alphanumerically.\n",
    "Suppose the following input is supplied to the program:\n",
    "hello world and practice makes perfect and hello world again\n",
    "Then, the output should be:\n",
    "again and hello makes perfect practice world"
   ],
   "cell_type": "markdown",
   "metadata": {}
  },
  {
   "cell_type": "code",
   "execution_count": null,
   "metadata": {},
   "outputs": [],
   "source": [
    "inlist = input('Enter a sentence :')\n",
    "inlist = list(set(inlist.split(' ')))\n",
    "inlist.sort()\n",
    "pos = None\n",
    "for i in inlist:\n",
    "    if inlist.index(i) == len(inlist)-1:\n",
    "        break\n",
    "    pos = inlist.index(i)\n",
    "    if i[0] == inlist[pos+1][0]:\n",
    "        if len(i) > len(inlist[pos+1]):\n",
    "            inlist[pos], inlist[pos+1] = inlist[pos+1], inlist[pos]\n",
    "print(inlist)"
   ]
  },
  {
   "cell_type": "code",
   "execution_count": null,
   "metadata": {},
   "outputs": [],
   "source": []
  }
 ]
}