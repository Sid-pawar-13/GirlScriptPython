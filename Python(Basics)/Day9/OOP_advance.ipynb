{
 "metadata": {
  "language_info": {
   "codemirror_mode": {
    "name": "ipython",
    "version": 3
   },
   "file_extension": ".py",
   "mimetype": "text/x-python",
   "name": "python",
   "nbconvert_exporter": "python",
   "pygments_lexer": "ipython3",
   "version": "3.7.8-candidate"
  },
  "orig_nbformat": 2,
  "kernelspec": {
   "name": "python3",
   "display_name": "Python 3.7.8 64-bit",
   "metadata": {
    "interpreter": {
     "hash": "2661fe8998ba1d39239e83ab1b820ea0d7cbfc09746e6db3382a3752a2b331b3"
    }
   }
  }
 },
 "nbformat": 4,
 "nbformat_minor": 2,
 "cells": [
  {
   "source": [
    "# Classes"
   ],
   "cell_type": "markdown",
   "metadata": {}
  },
  {
   "cell_type": "code",
   "execution_count": null,
   "metadata": {},
   "outputs": [],
   "source": [
    "class Parrot:\n",
    "    a1 = 'Green'\n",
    "    a2 = 'Its nose is Red'\n",
    "    def display(self):\n",
    "        print('my color is :',self.a1)\n",
    "        print('features :',self.a2)\n",
    "\n",
    "\n",
    "p1 = Parrot()\n",
    "p2 = Parrot()\n",
    "p1.a1 = 'Red'\n",
    "p1.a2 = 'Its nose is not Red'\n",
    "print(p1.a1)\n",
    "p1.display()\n",
    "print(p2.a1)\n",
    "p2.display()"
   ]
  },
  {
   "source": [
    "## Use of self keyword"
   ],
   "cell_type": "markdown",
   "metadata": {}
  },
  {
   "cell_type": "code",
   "execution_count": null,
   "metadata": {},
   "outputs": [],
   "source": [
    "class Person:\n",
    "    def __init__(self,name):\n",
    "        self.name = name\n",
    "    def display(self):\n",
    "        print('hello, my name is ',self.name)\n",
    "p = Person('Sid')\n",
    "p.display()"
   ]
  },
  {
   "source": [
    "## Example of class and objects"
   ],
   "cell_type": "markdown",
   "metadata": {}
  },
  {
   "cell_type": "code",
   "execution_count": null,
   "metadata": {},
   "outputs": [],
   "source": [
    "class Person:\n",
    "    def __init__(self):\n",
    "        print('Hi Welcome')\n",
    "    def display(self):\n",
    "        print('hello, my name is Sid')\n",
    "p1 = Person()\n",
    "p1.display()\n",
    "p2 = Person()\n",
    "p2.display()"
   ]
  },
  {
   "cell_type": "code",
   "execution_count": null,
   "metadata": {},
   "outputs": [],
   "source": [
    "class Person:\n",
    "    def __init__(self,num):\n",
    "        self.num = num\n",
    "    def display(self):\n",
    "        print('hello, Num is ',self.num)\n",
    "p = Person(10)\n",
    "p.display()"
   ]
  },
  {
   "cell_type": "code",
   "execution_count": null,
   "metadata": {},
   "outputs": [],
   "source": []
  }
 ]
}