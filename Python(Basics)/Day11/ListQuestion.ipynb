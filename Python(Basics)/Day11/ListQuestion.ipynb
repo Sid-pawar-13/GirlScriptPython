{
 "metadata": {
  "language_info": {
   "codemirror_mode": {
    "name": "ipython",
    "version": 3
   },
   "file_extension": ".py",
   "mimetype": "text/x-python",
   "name": "python",
   "nbconvert_exporter": "python",
   "pygments_lexer": "ipython3",
   "version": "3.7.8-candidate"
  },
  "orig_nbformat": 2,
  "kernelspec": {
   "name": "python3",
   "display_name": "Python 3.7.8 64-bit",
   "metadata": {
    "interpreter": {
     "hash": "2661fe8998ba1d39239e83ab1b820ea0d7cbfc09746e6db3382a3752a2b331b3"
    }
   }
  }
 },
 "nbformat": 4,
 "nbformat_minor": 2,
 "cells": [
  {
   "source": [
    "Write a Python program to take a list as an input from the user and print the largest and smallest value. Also sort the list in descending order."
   ],
   "cell_type": "markdown",
   "metadata": {}
  },
  {
   "cell_type": "code",
   "execution_count": null,
   "metadata": {},
   "outputs": [],
   "source": [
    "i = int(input(\"Enter the number of elements\"))\n",
    "mylist = []\n",
    "for i in range(i):\n",
    "    mylist.append(int(input('Enter a number')))\n",
    "mylist.sort(reverse=True)\n",
    "print('Max :',max(mylist),'Min :',min(mylist),'list :',mylist)"
   ]
  },
  {
   "cell_type": "code",
   "execution_count": null,
   "metadata": {},
   "outputs": [],
   "source": []
  }
 ]
}