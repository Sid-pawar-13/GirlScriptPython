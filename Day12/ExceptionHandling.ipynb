{
 "metadata": {
  "language_info": {
   "codemirror_mode": {
    "name": "ipython",
    "version": 3
   },
   "file_extension": ".py",
   "mimetype": "text/x-python",
   "name": "python",
   "nbconvert_exporter": "python",
   "pygments_lexer": "ipython3",
   "version": "3.7.8-candidate"
  },
  "orig_nbformat": 2,
  "kernelspec": {
   "name": "python3",
   "display_name": "Python 3.7.8 64-bit",
   "metadata": {
    "interpreter": {
     "hash": "2661fe8998ba1d39239e83ab1b820ea0d7cbfc09746e6db3382a3752a2b331b3"
    }
   }
  }
 },
 "nbformat": 4,
 "nbformat_minor": 2,
 "cells": [
  {
   "cell_type": "code",
   "execution_count": null,
   "metadata": {},
   "outputs": [],
   "source": [
    "x = [1,2,3,4,5,'b',6]\n",
    "for i in x:\n",
    "    try:\n",
    "        if int(i) % 1 == int(i):\n",
    "            pass\n",
    "    except Exception as e:\n",
    "        print(f'Not a Integer :{i}')\n",
    "        print(e.__class__)"
   ]
  },
  {
   "source": [
    "Multiple Exception"
   ],
   "cell_type": "markdown",
   "metadata": {}
  },
  {
   "cell_type": "code",
   "execution_count": null,
   "metadata": {},
   "outputs": [],
   "source": [
    "import sys\n",
    "try:\n",
    "  d = 8\n",
    "  d = d + '5'\n",
    "except(TypeError, SyntaxError)as e:\n",
    "    print(sys.exc_info())"
   ]
  },
  {
   "source": [
    "User Defined Error and raise"
   ],
   "cell_type": "markdown",
   "metadata": {}
  },
  {
   "cell_type": "code",
   "execution_count": 7,
   "metadata": {},
   "outputs": [
    {
     "output_type": "stream",
     "name": "stdout",
     "text": [
      "('B', 'a', 'd', ' ', 'h', 'o', 's', 't', 'n', 'a', 'm', 'e')\n"
     ]
    }
   ],
   "source": [
    "class Networkerror(RuntimeError): \n",
    "    def __init__(self, arg): \n",
    "        self.args = arg \n",
    "#So once you defined above class, you can raise your exception as follows:\n",
    "try: \n",
    "    raise Networkerror(\"Bad hostname\") \n",
    "except Networkerror as e: \n",
    "    print(e.args)"
   ]
  },
  {
   "cell_type": "code",
   "execution_count": null,
   "metadata": {},
   "outputs": [],
   "source": []
  }
 ]
}