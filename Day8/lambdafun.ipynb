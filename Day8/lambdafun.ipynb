{
 "metadata": {
  "language_info": {
   "codemirror_mode": {
    "name": "ipython",
    "version": 3
   },
   "file_extension": ".py",
   "mimetype": "text/x-python",
   "name": "python",
   "nbconvert_exporter": "python",
   "pygments_lexer": "ipython3",
   "version": "3.7.8-candidate"
  },
  "orig_nbformat": 2,
  "kernelspec": {
   "name": "python3",
   "display_name": "Python 3.7.8 64-bit",
   "metadata": {
    "interpreter": {
     "hash": "2661fe8998ba1d39239e83ab1b820ea0d7cbfc09746e6db3382a3752a2b331b3"
    }
   }
  }
 },
 "nbformat": 4,
 "nbformat_minor": 2,
 "cells": [
  {
   "source": [
    "# lambda Functions"
   ],
   "cell_type": "markdown",
   "metadata": {}
  },
  {
   "source": [
    "Passing a lambda function to another function"
   ],
   "cell_type": "markdown",
   "metadata": {}
  },
  {
   "cell_type": "code",
   "execution_count": null,
   "metadata": {},
   "outputs": [],
   "source": [
    "def show(a):\n",
    "    print(a(8))\n",
    "show(lambda x:x)"
   ]
  },
  {
   "source": [
    "## Returning a lambda function"
   ],
   "cell_type": "markdown",
   "metadata": {}
  },
  {
   "cell_type": "code",
   "execution_count": null,
   "metadata": {},
   "outputs": [],
   "source": [
    "def add():\n",
    "    y = 20\n",
    "    return (lambda x:x+y)\n",
    "a = add()\n",
    "print(a(10))"
   ]
  },
  {
   "cell_type": "code",
   "execution_count": null,
   "metadata": {},
   "outputs": [],
   "source": [
    "sum = lambda x:x+1\n",
    "sum(5)"
   ]
  },
  {
   "source": [
    "## Immediately invoked function expression IIFE"
   ],
   "cell_type": "markdown",
   "metadata": {}
  },
  {
   "cell_type": "code",
   "execution_count": null,
   "metadata": {},
   "outputs": [],
   "source": [
    "(lambda x:x+1)(5)"
   ]
  },
  {
   "cell_type": "code",
   "execution_count": null,
   "metadata": {},
   "outputs": [],
   "source": [
    "(lambda x,y:x**y)(2,3)"
   ]
  },
  {
   "source": [
    "## Filter() Function"
   ],
   "cell_type": "markdown",
   "metadata": {}
  },
  {
   "cell_type": "code",
   "execution_count": null,
   "metadata": {},
   "outputs": [],
   "source": [
    "lis = [1,2,3,4,5,6,7,8,9,10]\n",
    "final_list = list(filter(lambda a:(a%2!=0),lis))\n",
    "print(final_list)"
   ]
  },
  {
   "cell_type": "code",
   "execution_count": null,
   "metadata": {},
   "outputs": [],
   "source": [
    "ages = [13,45,12,14,16,74,89]\n",
    "adults = list(filter(lambda age: age>18,ages))\n",
    "print(adults)"
   ]
  },
  {
   "cell_type": "code",
   "execution_count": null,
   "metadata": {},
   "outputs": [],
   "source": [
    "l = [5,7,3,4,9,89,12]\n",
    "fl = list(map(lambda x:x+2,l))\n",
    "print(fl)"
   ]
  },
  {
   "cell_type": "code",
   "execution_count": null,
   "metadata": {},
   "outputs": [],
   "source": [
    "animals = ['dogs','cats','parrots','peacocks']\n",
    "upper_animals = list(map(lambda animal:str.upper(animal),animals))\n",
    "print(upper_animals)"
   ]
  },
  {
   "source": [
    "## Reduce Function"
   ],
   "cell_type": "markdown",
   "metadata": {}
  },
  {
   "cell_type": "code",
   "execution_count": null,
   "metadata": {},
   "outputs": [],
   "source": [
    "from functools import reduce\n",
    "li = [5,8,6,2,4,9]\n",
    "sum = reduce((lambda x,y:x+y),li)\n",
    "print(sum)"
   ]
  },
  {
   "cell_type": "code",
   "execution_count": null,
   "metadata": {},
   "outputs": [],
   "source": [
    "l = [1,3,5,6,2]\n",
    "print('The maximum element in the list:')\n",
    "print(reduce(lambda a,b: a if a>b else b,l))"
   ]
  },
  {
   "source": [
    "# Function Decorators\n"
   ],
   "cell_type": "markdown",
   "metadata": {}
  },
  {
   "cell_type": "code",
   "execution_count": null,
   "metadata": {},
   "outputs": [],
   "source": [
    "def hello_dic(fun):\n",
    "    def inner_hello_dec():\n",
    "        print('hello, this is before function execution!!')\n",
    "        fun()\n",
    "        print('this is after function execution')\n",
    "    \n",
    "    return inner_hello_dec\n",
    "def func_to_be_called():\n",
    "    print('this is inside the function!!')\n",
    "func_to_be_called = hello_dic(func_to_be_called)\n",
    "func_to_be_called()"
   ]
  },
  {
   "cell_type": "code",
   "execution_count": null,
   "metadata": {},
   "outputs": [],
   "source": [
    "def fun(a,b):\n",
    "    return a+b\n",
    "result = fun(10,20)\n",
    "print(result)"
   ]
  },
  {
   "cell_type": "code",
   "execution_count": null,
   "metadata": {},
   "outputs": [],
   "source": []
  }
 ]
}