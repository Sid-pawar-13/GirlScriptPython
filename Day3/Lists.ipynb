{
 "metadata": {
  "language_info": {
   "codemirror_mode": {
    "name": "ipython",
    "version": 3
   },
   "file_extension": ".py",
   "mimetype": "text/x-python",
   "name": "python",
   "nbconvert_exporter": "python",
   "pygments_lexer": "ipython3",
   "version": "3.7.8-candidate"
  },
  "orig_nbformat": 2,
  "kernelspec": {
   "name": "python3",
   "display_name": "Python 3.7.8 64-bit",
   "metadata": {
    "interpreter": {
     "hash": "2661fe8998ba1d39239e83ab1b820ea0d7cbfc09746e6db3382a3752a2b331b3"
    }
   }
  }
 },
 "nbformat": 4,
 "nbformat_minor": 2,
 "cells": [
  {
   "source": [
    "Lists"
   ],
   "cell_type": "markdown",
   "metadata": {}
  },
  {
   "source": [
    "Lists are used to store multiple items in a single variable. List items are ordered, changeable, and allow duplicate values. List items are indexed, the first item has index 0, the second item has index 1 etc.\n",
    "List is Heterogeneous type of variable."
   ],
   "cell_type": "markdown",
   "metadata": {}
  },
  {
   "cell_type": "code",
   "execution_count": null,
   "metadata": {},
   "outputs": [],
   "source": [
    "list1 = [1,2,3,'hi',9]\n",
    "print('list1',list1)\n",
    "list1.append(10)\n",
    "print('list1',list1)"
   ]
  },
  {
   "source": [
    "Appending means to add an elements at the end of list"
   ],
   "cell_type": "markdown",
   "metadata": {}
  },
  {
   "cell_type": "code",
   "execution_count": null,
   "metadata": {},
   "outputs": [],
   "source": [
    "list2 = [1,2,4,5]\n",
    "print('list2',list2)\n",
    "list2.append('6')\n",
    "print('list2',list2)"
   ]
  },
  {
   "source": [
    "Appending using loops"
   ],
   "cell_type": "markdown",
   "metadata": {}
  },
  {
   "cell_type": "code",
   "execution_count": null,
   "metadata": {},
   "outputs": [],
   "source": [
    "list3 = []\n",
    "print('list3',list3)\n",
    "for i in range(5):\n",
    "    list3.append(i)\n",
    "print('list3',list3)"
   ]
  },
  {
   "source": [
    "Extend to add many elements at one time"
   ],
   "cell_type": "markdown",
   "metadata": {}
  },
  {
   "cell_type": "code",
   "execution_count": null,
   "metadata": {},
   "outputs": [],
   "source": [
    "list4 = [1,2,3,4,5,6]\n",
    "print('list4',list4)\n",
    "list4.extend([7,8,9])\n",
    "print('list4',list4)"
   ]
  },
  {
   "source": [
    "remove vs pop"
   ],
   "cell_type": "markdown",
   "metadata": {}
  },
  {
   "cell_type": "code",
   "execution_count": null,
   "metadata": {},
   "outputs": [],
   "source": [
    "list5 = [1,2,3,'hi',9]\n",
    "print('list5',list5)\n",
    "list5.remove('hi')\n",
    "print('list5',list5)\n",
    "list5.pop()\n",
    "print('list5',list5)\n",
    "list5.pop(1)\n",
    "print('list5',list5)"
   ]
  },
  {
   "source": [
    "Clear means to delete all the elements present in the list"
   ],
   "cell_type": "markdown",
   "metadata": {}
  },
  {
   "cell_type": "code",
   "execution_count": null,
   "metadata": {},
   "outputs": [],
   "source": [
    "list6 = [1,5,2,5,7,3,2,1]\n",
    "print('list6',list6)\n",
    "list6.clear()\n",
    "print('list6',list6)"
   ]
  },
  {
   "source": [
    "Sorting ascending and descending"
   ],
   "cell_type": "markdown",
   "metadata": {}
  },
  {
   "cell_type": "code",
   "execution_count": null,
   "metadata": {},
   "outputs": [],
   "source": [
    "list7 = [1,5,2,5,7,3,2,1]\n",
    "print('list7',list7)\n",
    "list7.sort()\n",
    "print('list7',list7)\n",
    "list7.sort(reverse=True)\n",
    "print('list7',list7)"
   ]
  },
  {
   "source": [
    "Write a program to print a list of even number from 1 to 50"
   ],
   "cell_type": "markdown",
   "metadata": {}
  },
  {
   "cell_type": "code",
   "execution_count": null,
   "metadata": {},
   "outputs": [],
   "source": [
    "list = []\n",
    "n = 50\n",
    "for i in range(n+1):\n",
    "    if i%2 ==0:\n",
    "        list.append(i)\n",
    "print(list)"
   ]
  },
  {
   "cell_type": "code",
   "execution_count": null,
   "metadata": {},
   "outputs": [],
   "source": [
    "print([i for i in range(0,50,2)])"
   ]
  },
  {
   "cell_type": "code",
   "execution_count": null,
   "metadata": {},
   "outputs": [],
   "source": []
  }
 ]
}