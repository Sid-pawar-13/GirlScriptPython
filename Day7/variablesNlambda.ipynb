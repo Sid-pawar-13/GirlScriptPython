{
 "metadata": {
  "language_info": {
   "codemirror_mode": {
    "name": "ipython",
    "version": 3
   },
   "file_extension": ".py",
   "mimetype": "text/x-python",
   "name": "python",
   "nbconvert_exporter": "python",
   "pygments_lexer": "ipython3",
   "version": "3.7.8-candidate"
  },
  "orig_nbformat": 2,
  "kernelspec": {
   "name": "python3",
   "display_name": "Python 3.7.8 64-bit",
   "metadata": {
    "interpreter": {
     "hash": "2661fe8998ba1d39239e83ab1b820ea0d7cbfc09746e6db3382a3752a2b331b3"
    }
   }
  }
 },
 "nbformat": 4,
 "nbformat_minor": 2,
 "cells": [
  {
   "source": [
    "# Local and Global variables"
   ],
   "cell_type": "markdown",
   "metadata": {}
  },
  {
   "cell_type": "code",
   "execution_count": null,
   "metadata": {},
   "outputs": [],
   "source": [
    "def show(y):\n",
    "    x = 10\n",
    "    print('x:',x)\n",
    "    print('sum',x+y)\n",
    "y = 20\n",
    "show(y)"
   ]
  },
  {
   "cell_type": "code",
   "execution_count": null,
   "metadata": {},
   "outputs": [],
   "source": [
    "a=50 #global\n",
    "def show():\n",
    "    x=10\n",
    "    print(a)\n",
    "    print(x)\n",
    "show()\n",
    "print('x:',x)\n",
    "print('a:',a)"
   ]
  },
  {
   "cell_type": "code",
   "execution_count": null,
   "metadata": {},
   "outputs": [],
   "source": [
    "x=50 #global\n",
    "def show():\n",
    "    global x\n",
    "    print(x)\n",
    "    x=10\n",
    "    print(x)\n",
    "show()\n",
    "print(x)"
   ]
  },
  {
   "cell_type": "code",
   "execution_count": null,
   "metadata": {},
   "outputs": [],
   "source": [
    "p = 50 #global\n",
    "def show():\n",
    "    global p\n",
    "    print(id(p))\n",
    "    print(p)\n",
    "    p = 10\n",
    "    print(id(p))\n",
    "    print(p)\n",
    "show()\n",
    "print(p)"
   ]
  },
  {
   "cell_type": "code",
   "execution_count": null,
   "metadata": {},
   "outputs": [],
   "source": [
    "p = 50 #global\n",
    "def show():\n",
    "    p = 10\n",
    "    print('local variable :',p)\n",
    "    p = globals()['p']\n",
    "    print('p:',p)\n",
    "show()\n",
    "print('global variable:',p)"
   ]
  },
  {
   "source": [
    "Call by value and call by reference in c or c++\n",
    "but in python we pass in objects"
   ],
   "cell_type": "markdown",
   "metadata": {}
  },
  {
   "cell_type": "code",
   "execution_count": null,
   "metadata": {},
   "outputs": [],
   "source": [
    "def val(x):\n",
    "    x = 15\n",
    "    print(x,id(x))\n",
    "x = 10\n",
    "val(x)\n",
    "print(x,id(x))"
   ]
  },
  {
   "cell_type": "code",
   "execution_count": null,
   "metadata": {},
   "outputs": [],
   "source": [
    "def val(lis):\n",
    "    lis.append(6)\n",
    "    print(lis,id(lis))\n",
    "    lis = [7,8,9]\n",
    "    print(lis,id(lis))\n",
    "lis = [1,2,3,4,5]\n",
    "print(lis,id(lis))\n",
    "val(lis)\n",
    "print(lis,id(lis))"
   ]
  },
  {
   "cell_type": "code",
   "execution_count": null,
   "metadata": {},
   "outputs": [],
   "source": [
    "def change(str1):\n",
    "    str1 += \" How are you?\"\n",
    "    print('Inside :',str1)\n",
    "str1 = 'Hi hello'\n",
    "change(str1)\n",
    "print('Outside :',str1)"
   ]
  },
  {
   "source": [
    "Recursion"
   ],
   "cell_type": "markdown",
   "metadata": {}
  },
  {
   "cell_type": "code",
   "execution_count": null,
   "metadata": {},
   "outputs": [],
   "source": [
    "def fib(n):\n",
    "    if n<=1:\n",
    "        return n\n",
    "    else:\n",
    "        return(fib(n-1) + fib(n-2))\n",
    "\n",
    "n = int(input(\"Enter a number\"))\n",
    "if n<=0:\n",
    "   print('Invalid')\n",
    "else:\n",
    "    print(\"Fibonacci Series :\")\n",
    "    for i in range(n):\n",
    "        print(fib(i))"
   ]
  },
  {
   "source": [
    "Lambda Functions"
   ],
   "cell_type": "markdown",
   "metadata": {}
  },
  {
   "cell_type": "code",
   "execution_count": null,
   "metadata": {},
   "outputs": [],
   "source": [
    "lambda x:print(x) # function definition"
   ]
  },
  {
   "cell_type": "code",
   "execution_count": null,
   "metadata": {},
   "outputs": [],
   "source": [
    "y = lambda x:print(x)\n",
    "print(y)               # returning a lambda function\n",
    "y(10)                  # calling lambda function"
   ]
  },
  {
   "cell_type": "code",
   "execution_count": null,
   "metadata": {},
   "outputs": [],
   "source": [
    "y = lambda x,y:print(x+y,x*y)\n",
    "print(y)\n",
    "y(10,20)"
   ]
  },
  {
   "cell_type": "code",
   "execution_count": null,
   "metadata": {},
   "outputs": [],
   "source": [
    "p = lambda x=10: (lambda y:x+y)\n",
    "a = p()                         # a() = lambda y:10+y\n",
    "print(p)\n",
    "print(a(20))"
   ]
  },
  {
   "cell_type": "code",
   "execution_count": null,
   "metadata": {},
   "outputs": [],
   "source": [
    "p = lambda x,y: (lambda z:x+y+z)\n",
    "a = p(10,20)                         # a() = lambda y:10+y\n",
    "print(p)\n",
    "print(a(100))"
   ]
  }
 ]
}