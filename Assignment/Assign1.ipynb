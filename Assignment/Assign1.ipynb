{
 "metadata": {
  "language_info": {
   "codemirror_mode": {
    "name": "ipython",
    "version": 3
   },
   "file_extension": ".py",
   "mimetype": "text/x-python",
   "name": "python",
   "nbconvert_exporter": "python",
   "pygments_lexer": "ipython3",
   "version": "3.7.8-candidate"
  },
  "orig_nbformat": 2,
  "kernelspec": {
   "name": "python3",
   "display_name": "Python 3.7.8 64-bit",
   "metadata": {
    "interpreter": {
     "hash": "2661fe8998ba1d39239e83ab1b820ea0d7cbfc09746e6db3382a3752a2b331b3"
    }
   }
  }
 },
 "nbformat": 4,
 "nbformat_minor": 2,
 "cells": [
  {
   "cell_type": "code",
   "execution_count": null,
   "metadata": {},
   "outputs": [],
   "source": [
    "# 1) Write a Python program to find the list of words that are longer than n from a given list of words. Take input from user."
   ]
  },
  {
   "cell_type": "code",
   "execution_count": null,
   "metadata": {},
   "outputs": [],
   "source": [
    "list = ['ern','zmyvrbzur','zegv','zvbmjzrvbk','zjzjmr','zmzmzbur','bobhoie','zuymr','e','kugrk']\n",
    "N = int(input('Enter a number :'))\n",
    "print([i for i in list if len(i) > N])"
   ]
  },
  {
   "cell_type": "code",
   "execution_count": null,
   "metadata": {},
   "outputs": [],
   "source": [
    "# 2) Write a Python program to convert a tuple of string values to tuple of integers values."
   ]
  },
  {
   "cell_type": "code",
   "execution_count": null,
   "metadata": {},
   "outputs": [],
   "source": [
    "tup1 = ('55','3','10','8')\n",
    "print(tup1)\n",
    "tup1 = tuple([int(i) for i in tup1])\n",
    "print(tup1)"
   ]
  },
  {
   "cell_type": "code",
   "execution_count": null,
   "metadata": {},
   "outputs": [],
   "source": [
    "# 3) Check if all items in the tuple are the same and print 'True' else print 'False'."
   ]
  },
  {
   "cell_type": "code",
   "execution_count": null,
   "metadata": {},
   "outputs": [],
   "source": [
    "tup1 = (3,3,1,3)\n",
    "flag = True\n",
    "for i in range(len(tup1)-1):\n",
    "    if tup1[i] != tup1[i+1]:\n",
    "        flag = False\n",
    "        break\n",
    "print(flag)"
   ]
  },
  {
   "cell_type": "code",
   "execution_count": null,
   "metadata": {},
   "outputs": [],
   "source": [
    "# 4) Print the following :\n",
    "#    if n = 3\n",
    "#       *\n",
    "#       **\n",
    "#       ***"
   ]
  },
  {
   "cell_type": "code",
   "execution_count": null,
   "metadata": {},
   "outputs": [],
   "source": [
    "n = int(input(\"Enter a number :\"))\n",
    "for i in range(n):\n",
    "    for j in range(i+1):\n",
    "        print('*',end='')\n",
    "    print('')"
   ]
  },
  {
   "cell_type": "code",
   "execution_count": null,
   "metadata": {},
   "outputs": [],
   "source": [
    "# 5) Print the following when n=3\n",
    "#    1\n",
    "#    12\n",
    "#    123"
   ]
  },
  {
   "cell_type": "code",
   "execution_count": null,
   "metadata": {},
   "outputs": [],
   "source": [
    "n = int(input(\"Enter a number :\"))\n",
    "for i in range(1,n+1):\n",
    "    for j in range(1,i+1):\n",
    "        print(j,end='')\n",
    "    print('')"
   ]
  },
  {
   "cell_type": "code",
   "execution_count": null,
   "metadata": {},
   "outputs": [],
   "source": [
    "# 6) Convert the following into dictionary without using any inbuilt function.\n",
    "# keys = ['Ten','Twenty','Thirty']\n",
    "# values = [10,20,30]"
   ]
  },
  {
   "cell_type": "code",
   "execution_count": null,
   "metadata": {},
   "outputs": [],
   "source": [
    "num_dict = {'ten':10,'twenty':20,'thirty':30,'fourty':40,'fifty':50,\n",
    "            'sixty':60,'seventy':70,'eighty':80,'ninety':90,'hundred':100}\n",
    "key = ['ten','twenty','thirty']\n",
    "print([num_dict[i] for i in key])"
   ]
  }
 ]
}