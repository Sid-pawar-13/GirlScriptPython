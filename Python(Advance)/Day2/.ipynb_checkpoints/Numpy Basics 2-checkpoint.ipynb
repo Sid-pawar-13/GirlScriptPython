{
 "cells": [
  {
   "cell_type": "code",
   "execution_count": 1,
   "metadata": {},
   "outputs": [],
   "source": [
    "import numpy as np"
   ]
  },
  {
   "cell_type": "markdown",
   "metadata": {},
   "source": [
    "# Creating a numpy Array"
   ]
  },
  {
   "cell_type": "code",
   "execution_count": null,
   "metadata": {},
   "outputs": [],
   "source": [
    "a = ([[1,2,3],[4,5,6],[7,8,9],[10,11,12]])\n",
    "a = np.array(a,dtype=float)\n",
    "a"
   ]
  },
  {
   "cell_type": "markdown",
   "metadata": {},
   "source": [
    "# numpy zeros method:"
   ]
  },
  {
   "cell_type": "code",
   "execution_count": null,
   "metadata": {},
   "outputs": [],
   "source": [
    "b = np.zeros(2,dtype=int)\n",
    "print(\"Matrix b :\\n\",b)\n",
    "\n",
    "c = np.zeros([2,2],dtype=int)\n",
    "print(\"\\nMatrix c :\\n\",c)\n",
    "\n",
    "d = np.zeros([3,3])\n",
    "print(\"\\nMatrix d :\\n\",d)"
   ]
  },
  {
   "cell_type": "markdown",
   "metadata": {},
   "source": [
    "# Reshaping the array:"
   ]
  },
  {
   "cell_type": "code",
   "execution_count": null,
   "metadata": {},
   "outputs": [],
   "source": [
    "array1 = np.arange(8)\n",
    "print(\"Original array :\\n\",array1)\n",
    "\n",
    "array2 = np.arange(8).reshape(2,4)\n",
    "print(\"2 rows 4 columns array :\\n\",array2)\n",
    "\n",
    "array3 = np.arange(8).reshape(4,2)\n",
    "print(\"4 rows 2 columns array :\\n\",array3)\n",
    "\n",
    "array4 = np.arange(8).reshape(2,2,2)\n",
    "print(\"3D array :\\n\",array4)"
   ]
  },
  {
   "cell_type": "markdown",
   "metadata": {},
   "source": [
    "# In the print statement:"
   ]
  },
  {
   "cell_type": "code",
   "execution_count": null,
   "metadata": {},
   "outputs": [],
   "source": [
    "print(\"A\\n\",np.arange(4).reshape(2,2),\"\\n\")\n",
    "\n",
    "print(\"A\\n\",np.arange(4,10).reshape(2,3),\"\\n\")\n",
    "\n",
    "print(\"A\\n\",np.arange(4,20,3).reshape(3,2),\"\\n\")"
   ]
  },
  {
   "cell_type": "markdown",
   "metadata": {},
   "source": [
    "# linspace"
   ]
  },
  {
   "cell_type": "code",
   "execution_count": 5,
   "metadata": {},
   "outputs": [
    {
     "name": "stdout",
     "output_type": "stream",
     "text": [
      "B\n",
      " (array([2.  , 2.25, 2.5 , 2.75, 3.  ]), 0.25) \n",
      "\n",
      "A\n",
      " [0.         0.22039774 0.42995636 0.6183698  0.77637192 0.8961922\n",
      " 0.9719379  0.99988386 0.9786557  0.90929743]\n"
     ]
    }
   ],
   "source": [
    "# retstep = True shows the difference b/w each elements\n",
    "# num = 5 is the no of steps\n",
    "print(\"B\\n\", np.linspace(2.0, 3.0, num=5, retstep=True), \"\\n\")\n",
    "\n",
    "# To evaluate sin() in long range\n",
    "x = np.linspace(0, 2, 10)\n",
    "print(\"A\\n\", np.sin(x))"
   ]
  },
  {
   "cell_type": "markdown",
   "metadata": {},
   "source": [
    "# Flatten"
   ]
  },
  {
   "cell_type": "code",
   "execution_count": 8,
   "metadata": {},
   "outputs": [
    {
     "name": "stdout",
     "output_type": "stream",
     "text": [
      "[[1 2]\n",
      " [3 4]]\n",
      "[[1 2]\n",
      " [3 4]]\n",
      "2\n"
     ]
    }
   ],
   "source": [
    "array5 = np.array([[1, 2], [3, 4]])\n",
    "\n",
    "array5.flatten()\n",
    "print(array5)\n",
    "\n",
    "# F stands for first\n",
    "# first style google it\n",
    "array5.flatten('F')\n",
    "print(array5)"
   ]
  },
  {
   "cell_type": "markdown",
   "metadata": {},
   "source": [
    "# print largest element"
   ]
  },
  {
   "cell_type": "code",
   "execution_count": 12,
   "metadata": {},
   "outputs": [
    {
     "name": "stdout",
     "output_type": "stream",
     "text": [
      "Max : 9\n",
      "Row-wise max : [3 6 9]\n",
      "Column-wise max : [7 8 9]\n",
      "Sum : 45\n",
      "Cumulative sum along each row : [[ 1  3  6]\n",
      " [ 4  9 15]\n",
      " [ 7 15 24]]\n"
     ]
    }
   ],
   "source": [
    "array6 = np.arange(1,10).reshape(3,3)\n",
    "\n",
    "print(\"Max :\",array6.max())\n",
    "print(\"Row-wise max :\",array6.max(axis=1))\n",
    "print(\"Column-wise max :\",array6.max(axis=0))\n",
    "print(\"Sum :\",array6.sum())\n",
    "print(\"Cumulative sum along each row :\",array6.cumsum(axis=1))\n",
    "# axis = 0 means columns\n",
    "# axis = 1 means rows"
   ]
  },
  {
   "cell_type": "code",
   "execution_count": 13,
   "metadata": {},
   "outputs": [
    {
     "name": "stdout",
     "output_type": "stream",
     "text": [
      "[10 18 24 28 30 30]\n"
     ]
    }
   ],
   "source": [
    "list1 = [1,2,3,4,5,6]\n",
    "list2 = [10,9,8,7,6,5]\n",
    "\n",
    "a1 = np.array(list1)\n",
    "a2 = np.array(list2)\n",
    "\n",
    "print(a1*a2)"
   ]
  },
  {
   "cell_type": "code",
   "execution_count": 17,
   "metadata": {},
   "outputs": [
    {
     "name": "stdout",
     "output_type": "stream",
     "text": [
      "negative step : [10  8  6  4  2]\n",
      "Elements at [3, 1, 2] indices are : [4 8 6]\n"
     ]
    }
   ],
   "source": [
    "array7 = np.arange(10, 1, -2)\n",
    "print(\"Negative step array :\",array7)\n",
    "\n",
    "newarr = array7[np.array([3, 1, 2])]\n",
    "print(\"Elements at [3, 1, 2] indices are :\",newarr)"
   ]
  },
  {
   "cell_type": "code",
   "execution_count": 21,
   "metadata": {},
   "outputs": [
    {
     "name": "stdout",
     "output_type": "stream",
     "text": [
      "temp :\n",
      " [[-1.  0.]\n",
      " [ 4.  6.]]\n",
      "temp :\n",
      " [4. 6. 0. 3.]\n",
      "temp :\n",
      " [2.  4.  4.  6.  2.6 7.  8.  3.  4.  2. ]\n"
     ]
    }
   ],
   "source": [
    "array8 = np.array([[-1,2,0,4],\n",
    "                   [4,-0.5,6,0],\n",
    "                   [2.6,0,7,8],\n",
    "                   [3,-7,4,2.0]])\n",
    "temp = array8[:2, ::2]\n",
    "print(\"temp :\\n\",temp)\n",
    "\n",
    "temp = array8[[0, 1, 2, 3], [3, 2, 1, 0]]\n",
    "print(\"temp :\\n\",temp)\n",
    "\n",
    "cond = array8 > 0\n",
    "temp = array8[cond]\n",
    "print(\"temp :\\n\",temp)"
   ]
  },
  {
   "cell_type": "markdown",
   "metadata": {},
   "source": [
    "# negative indexing"
   ]
  },
  {
   "cell_type": "code",
   "execution_count": 31,
   "metadata": {},
   "outputs": [
    {
     "data": {
      "text/plain": [
       "array([7, 8, 9])"
      ]
     },
     "execution_count": 31,
     "metadata": {},
     "output_type": "execute_result"
    }
   ],
   "source": [
    "array9 = np.arange(1,10)\n",
    "array9[-3:]"
   ]
  },
  {
   "cell_type": "markdown",
   "metadata": {},
   "source": [
    "# itering over a array"
   ]
  },
  {
   "cell_type": "code",
   "execution_count": 25,
   "metadata": {},
   "outputs": [
    {
     "name": "stdout",
     "output_type": "stream",
     "text": [
      "Original : [[ 0  1  2  3]\n",
      " [ 4  5  6  7]\n",
      " [ 8  9 10 11]] \n",
      "\n",
      "Elements :\n",
      "0\n",
      "1\n",
      "2\n",
      "3\n",
      "4\n",
      "5\n",
      "6\n",
      "7\n",
      "8\n",
      "9\n",
      "10\n",
      "11\n"
     ]
    }
   ],
   "source": [
    "array10 = np.arange(12).reshape(3,4)\n",
    "print(\"Original :\",array10,\"\\n\")\n",
    "print(\"Elements :\")\n",
    "for i in np.nditer(array10):\n",
    "    print(i)"
   ]
  },
  {
   "cell_type": "code",
   "execution_count": 26,
   "metadata": {},
   "outputs": [
    {
     "data": {
      "text/plain": [
       "array([ 0,  5, 10, 15, 20, 25, 30, 35, 40, 45, 50, 55])"
      ]
     },
     "execution_count": 26,
     "metadata": {},
     "output_type": "execute_result"
    }
   ],
   "source": [
    "array11 = np.arange(0,60,5)\n",
    "array11"
   ]
  },
  {
   "cell_type": "markdown",
   "metadata": {},
   "source": [
    "# mathematical functions"
   ]
  },
  {
   "cell_type": "code",
   "execution_count": 33,
   "metadata": {},
   "outputs": [
    {
     "name": "stdout",
     "output_type": "stream",
     "text": [
      "in_array : [0, 1.5707963267948966, 1.0471975511965976, 3.141592653589793]\n",
      "cos_Values : [ 1.000000e+00  6.123234e-17  5.000000e-01 -1.000000e+00]\n"
     ]
    }
   ],
   "source": [
    "import numpy as np\n",
    "import math\n",
    "\n",
    "in_array = [0, math.pi/2, np.pi/3, np.pi]\n",
    "print(\"in_array :\",in_array)\n",
    "\n",
    "cos_Values = np.cos(in_array)\n",
    "print(\"cos_Values :\",cos_Values)"
   ]
  },
  {
   "cell_type": "markdown",
   "metadata": {},
   "source": [
    "# string operations"
   ]
  },
  {
   "cell_type": "code",
   "execution_count": 35,
   "metadata": {},
   "outputs": [
    {
     "name": "stdout",
     "output_type": "stream",
     "text": [
      "['siddhant' 'pawar']\n"
     ]
    }
   ],
   "source": [
    "print(np.char.lower(['SIDDHANT', 'PAWAR']))"
   ]
  },
  {
   "cell_type": "code",
   "execution_count": 36,
   "metadata": {},
   "outputs": [
    {
     "name": "stdout",
     "output_type": "stream",
     "text": [
      "['siddhant', 'pawar', '13', '2001']\n"
     ]
    }
   ],
   "source": [
    "print(np.char.split('siddhant pawar 13 2001'))"
   ]
  },
  {
   "cell_type": "code",
   "execution_count": 37,
   "metadata": {},
   "outputs": [
    {
     "name": "stdout",
     "output_type": "stream",
     "text": [
      "['s-i-d-d-h-a-n-t' 'p:a:w:a:r']\n"
     ]
    }
   ],
   "source": [
    "print(np.char.join(['-',':'], ['siddhant', 'pawar']))"
   ]
  },
  {
   "cell_type": "code",
   "execution_count": null,
   "metadata": {},
   "outputs": [],
   "source": []
  }
 ],
 "metadata": {
  "language_info": {
   "codemirror_mode": {
    "name": "ipython",
    "version": 3
   },
   "file_extension": ".py",
   "mimetype": "text/x-python",
   "name": "python",
   "nbconvert_exporter": "python",
   "pygments_lexer": "ipython3",
   "version": "3.8.7"
  }
 },
 "nbformat": 4,
 "nbformat_minor": 4
}
