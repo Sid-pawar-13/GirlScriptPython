{
 "cells": [
  {
   "cell_type": "markdown",
   "metadata": {},
   "source": [
    "# Types of ML\n",
    "\n",
    "1. Supervised Learning (has a input and output variables)\n",
    "i. Classification\n",
    "ii. Regeression\n",
    "2. Unsupervised Learning (no output variables. Unstructured data is given to the model)\n",
    "3. Reinforcement Learning (machine is exposed to an environment and learn from it)"
   ]
  }
 ],
 "metadata": {
  "kernelspec": {
   "display_name": "Python 3",
   "language": "python",
   "name": "python3"
  },
  "language_info": {
   "codemirror_mode": {
    "name": "ipython",
    "version": 3
   },
   "file_extension": ".py",
   "mimetype": "text/x-python",
   "name": "python",
   "nbconvert_exporter": "python",
   "pygments_lexer": "ipython3",
   "version": "3.8.7"
  }
 },
 "nbformat": 4,
 "nbformat_minor": 4
}
