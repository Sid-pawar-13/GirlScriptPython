{
 "cells": [
  {
   "cell_type": "code",
   "execution_count": null,
   "metadata": {},
   "outputs": [],
   "source": [
    "import pandas as pd\n",
    "import requests\n",
    "from bs4 import BeautifulSoup\n",
    "import numpy as np\n",
    "\n",
    "page = requests.get(\"https://www.imdb.com/search/title/?count=100&groups=top_1000&sort=user_rating\")\n",
    "Soup = BeautifulSoup(page.content, \"lxml\")\n",
    "\n",
    "movie_data = Soup.find_all('div', attrs = {'class' : \"lister-item mode-advanced\"})\n",
    "\n",
    "movie_name = []\n",
    "year = []\n",
    "time = []\n",
    "rating = []\n",
    "metascore = []\n",
    "votes = []\n",
    "gross = []"
   ]
  },
  {
   "cell_type": "code",
   "execution_count": 32,
   "metadata": {},
   "outputs": [
    {
     "name": "stdout",
     "output_type": "stream",
     "text": [
      "['The Shawshank Redemption', 'The Godfather', 'The Dark Knight', 'The Godfather: Part II', '12 Angry Men', 'The Lord of the Rings: The Return of the King', 'Pulp Fiction', \"Schindler's List\", 'Inception', 'Fight Club', 'The Lord of the Rings: The Fellowship of the Ring', 'Forrest Gump', 'Il buono, il brutto, il cattivo', 'Dara iz Jasenovca', 'The Lord of the Rings: The Two Towers', 'The Matrix', 'Goodfellas', 'Star Wars: Episode V - The Empire Strikes Back', \"One Flew Over the Cuckoo's Nest\", 'Gisaengchung', 'Soorarai Pottru', 'Interstellar', 'Cidade de Deus', 'Sen to Chihiro no kamikakushi', 'Saving Private Ryan', 'The Green Mile', 'La vita è bella', 'Se7en', 'The Silence of the Lambs', 'Star Wars', 'Seppuku', 'Shichinin no samurai', \"It's a Wonderful Life\", 'Hamilton', 'Whiplash', 'The Intouchables', 'The Prestige', 'The Departed', 'The Pianist', 'Gladiator', 'American History X', 'The Usual Suspects', 'Léon', 'The Lion King', 'Terminator 2: Judgment Day', 'Nuovo Cinema Paradiso', 'Hotaru no haka', 'Back to the Future', 'Once Upon a Time in the West', 'Psycho', 'Casablanca', 'Modern Times', 'City Lights', 'Capharnaüm', 'Joker', 'Ayla: The Daughter of War', 'Vikram Vedha', 'Kimi no na wa.', 'Dangal', 'Spider-Man: Into the Spider-Verse', 'Avengers: Endgame', 'Avengers: Infinity War', 'Coco', 'Django Unchained', 'The Dark Knight Rises', '3 Idiots', 'Taare Zameen Par', 'WALL·E', 'The Lives of Others', 'Oldeuboi', 'Memento', 'Mononoke-hime', 'Once Upon a Time in America', 'Raiders of the Lost Ark', 'The Shining', 'Apocalypse Now', 'Alien', 'Anand', 'Tengoku to jigoku', 'Dr. Strangelove or: How I Learned to Stop Worrying and Love the Bomb', 'Witness for the Prosecution', 'Paths of Glory', 'Rear Window', 'Sunset Blvd.', 'The Great Dictator', '1917', 'Tumbbad', 'Andhadhun', 'Drishyam', 'Jagten', 'Jodaeiye Nader az Simin', 'Incendies', 'Miracle in cell NO.7', 'Babam ve Oglum', 'Inglourious Basterds', 'Eternal Sunshine of the Spotless Mind', 'Amélie', 'Snatch', 'Requiem for a Dream', 'American Beauty']\n"
     ]
    }
   ],
   "source": [
    "movie_name.clear()\n",
    "for movie in Soup.find_all('h3', class_ = \"lister-item-header\"):\n",
    "    movie_name.append(movie.a.text)\n",
    "print(movie_name)"
   ]
  },
  {
   "cell_type": "code",
   "execution_count": 23,
   "metadata": {},
   "outputs": [
    {
     "name": "stdout",
     "output_type": "stream",
     "text": [
      "['1994', '1972', '2008', '1974', '1957', '2003', '1994', '1993', '2010', '1999', '2001', '1994', '1966', '2020', '2002', '1999', '1990', '1980', '1975', '2019', '2020', '2014', '2002', '2001', '1998', '1999', '1997', '1995', '1991', '1977', '1962', '1954', '1946', '2020', '2014', '2011', '2006', '2006', '2002', '2000', '1998', '1995', '1994', '1994', '1991', '1988', '1988', '1985', '1968', '1960', '1942', '1936', '1931', '2018', '2019', '2017', '2017', '2016', '2016', '2018', '2019', '2018', 'I) (2017', '2012', '2012', '2009', '2007', '2008', '2006', '2003', '2000', '1997', '1984', '1981', '1980', '1979', '1979', '1971', '1963', '1964', '1957', '1957', '1954', '1950', '1940', '2019', '2018', '2018', '2013', '2012', '2011', '2010', '2019', '2005', '2009', '2004', '2001', '2000', '2000', '1999']\n"
     ]
    }
   ],
   "source": [
    "year.clear()\n",
    "for movie in Soup.find_all('span', class_ = \"lister-item-year text-muted unbold\"):\n",
    "    year.append(movie.text[1:-1])\n",
    "print(year)"
   ]
  },
  {
   "cell_type": "code",
   "execution_count": 46,
   "metadata": {},
   "outputs": [
    {
     "ename": "AttributeError",
     "evalue": "'NoneType' object has no attribute 'runtime'",
     "output_type": "error",
     "traceback": [
      "\u001b[1;31m---------------------------------------------------------------------------\u001b[0m",
      "\u001b[1;31mAttributeError\u001b[0m                            Traceback (most recent call last)",
      "\u001b[1;32m<ipython-input-46-b6bae67aa239>\u001b[0m in \u001b[0;36m<module>\u001b[1;34m\u001b[0m\n\u001b[0;32m      1\u001b[0m \u001b[0mtime\u001b[0m\u001b[1;33m.\u001b[0m\u001b[0mclear\u001b[0m\u001b[1;33m(\u001b[0m\u001b[1;33m)\u001b[0m\u001b[1;33m\u001b[0m\u001b[1;33m\u001b[0m\u001b[0m\n\u001b[0;32m      2\u001b[0m \u001b[1;32mfor\u001b[0m \u001b[0mmovie\u001b[0m \u001b[1;32min\u001b[0m \u001b[0mSoup\u001b[0m\u001b[1;33m.\u001b[0m\u001b[0mfind_all\u001b[0m\u001b[1;33m(\u001b[0m\u001b[1;34m'span'\u001b[0m\u001b[1;33m,\u001b[0m \u001b[0mclass_\u001b[0m \u001b[1;33m=\u001b[0m \u001b[1;34m\"runtime\"\u001b[0m\u001b[1;33m)\u001b[0m\u001b[1;33m:\u001b[0m\u001b[1;33m\u001b[0m\u001b[1;33m\u001b[0m\u001b[0m\n\u001b[1;32m----> 3\u001b[1;33m     \u001b[0myear\u001b[0m\u001b[1;33m.\u001b[0m\u001b[0mappend\u001b[0m\u001b[1;33m(\u001b[0m\u001b[0mmovie\u001b[0m\u001b[1;33m.\u001b[0m\u001b[0mspan\u001b[0m\u001b[1;33m.\u001b[0m\u001b[0mruntime\u001b[0m\u001b[1;33m)\u001b[0m\u001b[1;33m\u001b[0m\u001b[1;33m\u001b[0m\u001b[0m\n\u001b[0m\u001b[0;32m      4\u001b[0m \u001b[0mprint\u001b[0m\u001b[1;33m(\u001b[0m\u001b[0myear\u001b[0m\u001b[1;33m)\u001b[0m\u001b[1;33m\u001b[0m\u001b[1;33m\u001b[0m\u001b[0m\n",
      "\u001b[1;31mAttributeError\u001b[0m: 'NoneType' object has no attribute 'runtime'"
     ]
    }
   ],
   "source": [
    "time.clear()\n",
    "for movie in Soup.find_all('span', class_ = \"runtime\"):\n",
    "    year.append(movie.span.runtime)\n",
    "print(year)"
   ]
  },
  {
   "cell_type": "code",
   "execution_count": 49,
   "metadata": {},
   "outputs": [
    {
     "name": "stdout",
     "output_type": "stream",
     "text": [
      "['Detailed', 'User Rating', '9.3', '9.2', '9.0', '9.0', '9.0', '8.9', '8.9', '8.9', '8.8', '8.8', '8.8', '8.8', '8.8', '8.7', '8.7', '8.7', '8.7', '8.7', '8.7', '8.6', '8.6', '8.6', '8.6', '8.6', '8.6', '8.6', '8.6', '8.6', '8.6', '8.6', '8.6', '8.6', '8.6', '8.5', '8.5', '8.5', '8.5', '8.5', '8.5', '8.5', '8.5', '8.5', '8.5', '8.5', '8.5', '8.5', '8.5', '8.5', '8.5', '8.5', '8.5', '8.5', '8.5', '8.4', '8.4', '8.4', '8.4', '8.4', '8.4', '8.4', '8.4', '8.4', '8.4', '8.4', '8.4', '8.4', '8.4', '8.4', '8.4', '8.4', '8.4', '8.4', '8.4', '8.4', '8.4', '8.4', '8.4', '8.4', '8.4', '8.4', '8.4', '8.4', '8.4', '8.4', '8.4', '8.3', '8.3', '8.3', '8.3', '8.3', '8.3', '8.3', '8.3', '8.3', '8.3', '8.3', '8.3', '8.3', '8.3', '8.3']\n"
     ]
    }
   ],
   "source": [
    "rating.clear()\n",
    "for movie in Soup.find_all('span', class_ = \"global-sprite rating-star imdb-rating\"):\n",
    "    rating.append(movie.text)\n",
    "print(rating)"
   ]
  },
  {
   "cell_type": "code",
   "execution_count": null,
   "metadata": {},
   "outputs": [],
   "source": []
  },
  {
   "cell_type": "code",
   "execution_count": null,
   "metadata": {},
   "outputs": [],
   "source": []
  }
 ],
 "metadata": {
  "kernelspec": {
   "display_name": "Python 3",
   "language": "python",
   "name": "python3"
  },
  "language_info": {
   "codemirror_mode": {
    "name": "ipython",
    "version": 3
   },
   "file_extension": ".py",
   "mimetype": "text/x-python",
   "name": "python",
   "nbconvert_exporter": "python",
   "pygments_lexer": "ipython3",
   "version": "3.8.7"
  }
 },
 "nbformat": 4,
 "nbformat_minor": 4
}
