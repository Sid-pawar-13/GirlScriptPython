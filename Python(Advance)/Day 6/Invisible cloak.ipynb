{
 "cells": [
  {
   "cell_type": "code",
   "execution_count": 5,
   "metadata": {},
   "outputs": [
    {
     "name": "stdout",
     "output_type": "stream",
     "text": [
      "4.4.0\n"
     ]
    }
   ],
   "source": [
    "import cv2\n",
    "import numpy as np\n",
    "import time\n",
    "\n",
    "print(cv2.__version__)\n",
    "\n",
    "capture_video = cv2.VideoCapture(\"D:/GitHub/GirlScriptPython/Python(Advance)/video.mp4\")\n",
    "\n",
    "time.sleep(1)\n",
    "count = 0\n",
    "background = 0\n",
    "\n",
    "for i in range(60):\n",
    "    return_val, background = capture_video.read()\n",
    "    if return_val == False :\n",
    "        continue\n",
    "background = np.flip(background, axis = 1)\n",
    "\n",
    "while (capture_video.isOpened()):\n",
    "    return_val, img = capture_video.read()\n",
    "    if not return_val:\n",
    "        break\n",
    "    count += 1\n",
    "    img = np.flip(img, axis = 1)\n",
    "    hsv = cv2.cvtColor(img, cv2.COLOR_BGR2HSV)\n",
    "    \n",
    "    lower_red = np.array([100, 40, 40])\n",
    "    upper_red = np.array([100, 255, 255])\n",
    "    mask1 = cv2.inRange(hsv, lower_red, upper_red)\n",
    "    \n",
    "    lower_red = np.array([155, 40, 40])\n",
    "    upper_red = np.array([100, 255, 255])\n",
    "    mask2 = cv2.inRange(hsv, lower_red, upper_red)\n",
    "    \n",
    "    mask1 = mask1 + mask2\n",
    "    \n",
    "    mask1 = cv2.morphologyEx(mask1, cv2.MORPH_OPEN, np.ones((3, 3), np.uint8), iterations = 2)\n",
    "    mask1 = cv2.dilate(mask1, np.ones((3, 3), np.uint8), iterations = 1)\n",
    "    mask2 = cv2.bitwise_not(mask1)\n",
    "    \n",
    "    res1 = cv2.bitwise_and(background, background, mask = mask1) \n",
    "    res2 = cv2.bitwise_and(img, img, mask = mask2) \n",
    "    final_output = cv2.addWeighted(res1, 1, res2, 1, 0) \n",
    "    \n",
    "    k = cv2.waitKey(0)\n",
    "    if k == 27:\n",
    "        break"
   ]
  },
  {
   "cell_type": "code",
   "execution_count": null,
   "metadata": {},
   "outputs": [],
   "source": []
  }
 ],
 "metadata": {
  "kernelspec": {
   "display_name": "Python 3",
   "language": "python",
   "name": "python3"
  },
  "language_info": {
   "codemirror_mode": {
    "name": "ipython",
    "version": 3
   },
   "file_extension": ".py",
   "mimetype": "text/x-python",
   "name": "python",
   "nbconvert_exporter": "python",
   "pygments_lexer": "ipython3",
   "version": "3.8.7"
  }
 },
 "nbformat": 4,
 "nbformat_minor": 4
}
