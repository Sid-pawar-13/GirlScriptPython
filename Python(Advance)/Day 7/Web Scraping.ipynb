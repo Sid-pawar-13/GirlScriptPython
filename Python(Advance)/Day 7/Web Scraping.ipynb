{
 "cells": [
  {
   "cell_type": "code",
   "execution_count": null,
   "metadata": {},
   "outputs": [],
   "source": [
    "import pandas as pd\n",
    "import requests\n",
    "from bs4 import BeautifulSoup\n",
    "page = requests.get(\"https://forecast.weather.gov/MapClick.php?lat=34.0536&lon=-118.2455#.XyFbdJ4zaM8\")\n",
    "Soup = BeautifulSoup(page.content, \"html.parser\")\n",
    "print(Soup)"
   ]
  },
  {
   "cell_type": "code",
   "execution_count": null,
   "metadata": {},
   "outputs": [],
   "source": [
    "print(Soup.find_all('a'))"
   ]
  },
  {
   "cell_type": "code",
   "execution_count": null,
   "metadata": {},
   "outputs": [],
   "source": [
    "week = Soup.find(id = \"seven-day-forecast-body\" )\n",
    "print(week)"
   ]
  },
  {
   "cell_type": "code",
   "execution_count": null,
   "metadata": {},
   "outputs": [],
   "source": [
    "items = week.find_all(class_ = \"forecast-tombstone\")\n",
    "print(items[0])"
   ]
  },
  {
   "cell_type": "code",
   "execution_count": null,
   "metadata": {},
   "outputs": [],
   "source": [
    "print(items[0].find(class_ = \"period-name\").get_text())\n",
    "print(items[0].find(class_ = \"short-desc\").get_text())\n",
    "print(items[0].find(class_ = \"temp\").get_text())"
   ]
  },
  {
   "cell_type": "code",
   "execution_count": null,
   "metadata": {},
   "outputs": [],
   "source": [
    "period_names = [item.find(class_ = \"period-name\").get_text() for item in items]\n",
    "print(period_names)\n",
    "Short_description = [item.find(class_ = \"short-desc\").get_text() for item in items]\n",
    "print(Short_description)\n",
    "Temperature = [item.find(class_ = \"temp\").get_text() for item in items]\n",
    "print(Temperature)"
   ]
  },
  {
   "cell_type": "code",
   "execution_count": null,
   "metadata": {},
   "outputs": [],
   "source": [
    "weather_stuff = pd.DataFrame({'period':period_names,'Short description':Short_description,'Temperature':Temperature,})\n",
    "print(weather_stuff)\n",
    "weather_stuff.to_csv(r'D:\\GitHub\\GirlScriptPython\\Python(Advance)\\weather.csv')"
   ]
  },
  {
   "cell_type": "code",
   "execution_count": null,
   "metadata": {},
   "outputs": [],
   "source": []
  }
 ],
 "metadata": {
  "kernelspec": {
   "display_name": "Python 3",
   "language": "python",
   "name": "python3"
  },
  "language_info": {
   "codemirror_mode": {
    "name": "ipython",
    "version": 3
   },
   "file_extension": ".py",
   "mimetype": "text/x-python",
   "name": "python",
   "nbconvert_exporter": "python",
   "pygments_lexer": "ipython3",
   "version": "3.8.7"
  }
 },
 "nbformat": 4,
 "nbformat_minor": 4
}
