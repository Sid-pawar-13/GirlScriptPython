{
 "cells": [
  {
   "cell_type": "code",
   "execution_count": 1,
   "metadata": {},
   "outputs": [],
   "source": [
    "import cv2\n",
    "import numpy as np\n",
    "import matplotlib.pyplot as plt"
   ]
  },
  {
   "cell_type": "code",
   "execution_count": null,
   "metadata": {},
   "outputs": [],
   "source": [
    "filename = \"D:/GitHub/GirlScriptPython/Python(Advance)/tomato.jpg\"\n",
    "\n",
    "try :\n",
    "    img = cv2.imread(filename)\n",
    "    (height, width) = img.shape[:2]\n",
    "    res = cv2.resize(img, (int(width/2), int(height/2)), interpolation = cv2.INTER_CUBIC)\n",
    "    \n",
    "    cv2.imwrite(\"D:/GitHub/GirlScriptPython/Python(Advance)/result.jpg\", res)\n",
    "    cv2.imshow(\"Tomato\",res)\n",
    "    cv2.waitKey()\n",
    "    cv2.destroyAllWindows()\n",
    "\n",
    "except IOError:\n",
    "    print(\"Error while reading files !!!\")"
   ]
  },
  {
   "cell_type": "code",
   "execution_count": null,
   "metadata": {},
   "outputs": [],
   "source": [
    "filename = \"D:/GitHub/GirlScriptPython/Python(Advance)/tomato.jpg\"\n",
    "\n",
    "M = np.float32([[1, 0, 100], [0, 1, 50]])\n",
    "\n",
    "try :\n",
    "    img = cv2.imread(filename)\n",
    "    (rows, cols) = img.shape[:2]\n",
    "    res = cv2.warpAffine(img, M, (cols, rows))\n",
    "    \n",
    "    cv2.imwrite(\"D:/GitHub/GirlScriptPython/Python(Advance)/result.jpg\", res)\n",
    "    cv2.imshow(\"Tomato\",res)\n",
    "    cv2.waitKey()\n",
    "    cv2.destroyAllWindows()\n",
    "\n",
    "except IOError:\n",
    "    print(\"Error while reading files !!!\")"
   ]
  },
  {
   "cell_type": "code",
   "execution_count": null,
   "metadata": {},
   "outputs": [],
   "source": [
    "filename = \"D:/GitHub/GirlScriptPython/Python(Advance)/tomato.jpg\"\n",
    "try :\n",
    "    img = cv2.imread(filename)\n",
    "    edges = cv2.Canny(img, 100, 200)\n",
    "    \n",
    "    cv2.imwrite(\"D:/GitHub/GirlScriptPython/Python(Advance)/result.jpg\", edges)\n",
    "    cv2.imshow(\"Tomato\",edges)\n",
    "    cv2.waitKey()\n",
    "    cv2.destroyAllWindows()\n",
    "\n",
    "except IOError:\n",
    "    print(\"Error while reading files !!!\")"
   ]
  },
  {
   "cell_type": "code",
   "execution_count": null,
   "metadata": {},
   "outputs": [],
   "source": [
    "import cv2\n",
    "import matplotlib.pyplot as plt\n",
    "# use a png image not jpg\n",
    "img = cv2.imread(\"D:/GitHub/GirlScriptPython/Python(Advance)/tomato.jpg\",0)\n",
    "histr = cv2.calcHist([img],[0],None,[256],[0,256])\n",
    "\n",
    "plt.plot(histr)\n",
    "plt.show()"
   ]
  },
  {
   "cell_type": "code",
   "execution_count": null,
   "metadata": {},
   "outputs": [],
   "source": [
    "import cv2\n",
    "import numpy as np\n",
    "\n",
    "img = cv2.imread(\"D:/GitHub/GirlScriptPython/Python(Advance)/tomato.jpg\", 0)\n",
    "equ = cv2.equalizeHist(img)\n",
    "res = np.hstack((img, equ))\n",
    "cv2.imshow('image', equ)\n",
    "cv2.waitKey(0)\n",
    "cv2.destroyAllWindows()"
   ]
  },
  {
   "cell_type": "markdown",
   "metadata": {},
   "source": [
    "The different Simple Thresholding Techniques are:\n",
    "•    cv2.THRESH_BINARY: If pixel intensity is greater than the set threshold, value set to 255, else set to 0 (black).\n",
    "•    cv2.THRESH_BINARY_INV: Inverted or Opposite case of cv2.THRESH_BINARY.\n",
    "•    cv.THRESH_TRUNC: If pixel intensity value is greater than threshold, it is truncated to the threshold. The pixel values are set to be the same as the threshold. All other values remain the same.\n",
    "•    cv.THRESH_TOZERO: Pixel intensity is set to 0, for all the pixels intensity, less than the threshold value.\n",
    "•    cv.THRESH_TOZERO_INV: Inverted or Opposite case of cv2.THRESH_TOZERO."
   ]
  },
  {
   "cell_type": "code",
   "execution_count": null,
   "metadata": {},
   "outputs": [],
   "source": [
    "import cv2\n",
    "import numpy as np\n",
    "\n",
    "image1 = cv2.imread(\"D:/GitHub/GirlScriptPython/Python(Advance)/tomato.jpg\", 0)\n",
    "cv2.THRESH_BINARY\n",
    "ret, thresh1 = cv2.threshold(image1, 120, 255, cv2.THRESH_BINARY)\n",
    "ret, thresh2 = cv2.threshold(image1, 120, 255, cv2.THRESH_BINARY_INV)\n",
    "ret, thresh3 = cv2.threshold(image1, 120, 255, cv2.THRESH_TRUNC)\n",
    "ret, thresh4 = cv2.threshold(image1, 120, 255, cv2.THRESH_TOZERO)\n",
    "ret, thresh5 = cv2.threshold(image1, 120, 255, cv2.THRESH_TOZERO_INV)\n",
    "\n",
    "cv2.imshow(\"Binar Thershold\", thresh1)\n",
    "cv2.imshow(\"Binar Thershold Inverted\",thresh2)\n",
    "cv2.imshow(\"Truncated Thershold\",thresh3)\n",
    "cv2.imshow(\"Set to 0\",thresh4)\n",
    "cv2.imshow(\"Set to 0 Inverted\",thresh5)\n",
    "\n",
    "if cv2.waitKey(0) & 0xff == 27:\n",
    "    cv2.destroyAllWindows()"
   ]
  },
  {
   "cell_type": "code",
   "execution_count": null,
   "metadata": {},
   "outputs": [],
   "source": [
    "import cv2\n",
    "import numpy as np\n",
    "\n",
    "image1 = cv2.imread(\"D:/GitHub/GirlScriptPython/Python(Advance)/tomato.jpg\", 0)\n",
    "\n",
    "thresh1 = cv2.adaptiveThreshold(image1, 255, cv2.ADAPTIVE_THRESH_MEAN_C, \n",
    "                                          cv2.THRESH_BINARY, 199, 5) \n",
    "  \n",
    "thresh2 = cv2.adaptiveThreshold(image1, 255, cv2.ADAPTIVE_THRESH_GAUSSIAN_C, \n",
    "                                          cv2.THRESH_BINARY, 199, 5)\n",
    "\n",
    "cv2.imshow(\"Mean Adaptive\", thresh1)\n",
    "cv2.imshow(\"Gaussian Adaptive\",thresh2)\n",
    "\n",
    "if cv2.waitKey(0) & 0xff == 27:\n",
    "    cv2.destroyAllWindows()"
   ]
  },
  {
   "cell_type": "code",
   "execution_count": null,
   "metadata": {},
   "outputs": [],
   "source": [
    "import cv2\n",
    "import matplotlib.pyplot as plt\n",
    "\n",
    "img = cv2.imread(\"D:/GitHub/GirlScriptPython/Python(Advance)/tomato.jpg\")\n",
    "\n",
    "layer = img.copy()\n",
    "for i in range(4):\n",
    "    plt.subplot(2, 2, i+1)\n",
    "    layer = cv2.pyrDown(layer)\n",
    "    \n",
    "    plt.imshow(layer)\n",
    "    cv2.imshow(\"str(i)\",layer)\n",
    "    cv2.waitKey(0)\n",
    "    \n",
    "cv2.destroyAllWindows()"
   ]
  },
  {
   "cell_type": "code",
   "execution_count": 2,
   "metadata": {},
   "outputs": [],
   "source": [
    "image = cv2.imread(\"D:/GitHub/GirlScriptPython/Python(Advance)/tomato.jpg\")\n",
    "image = cv2.rectangle(image, (5, 5), (220, 220), (255, 0, 0), 2)\n",
    "cv2.imshow(\"Image\", image)\n",
    "cv2.waitKey(0)\n",
    "cv2.destroyAllWindows()"
   ]
  },
  {
   "cell_type": "code",
   "execution_count": 3,
   "metadata": {},
   "outputs": [],
   "source": [
    "image = cv2.imread(\"D:/GitHub/GirlScriptPython/Python(Advance)/tomato.jpg\", 0)\n",
    "image = cv2.rectangle(image, (5, 5), (220, 220), (0, 0, 0), -1)\n",
    "cv2.imshow(\"Image\", image)\n",
    "cv2.waitKey(0)\n",
    "cv2.destroyAllWindows()"
   ]
  },
  {
   "cell_type": "code",
   "execution_count": null,
   "metadata": {},
   "outputs": [],
   "source": []
  }
 ],
 "metadata": {
  "kernelspec": {
   "display_name": "Python 3",
   "language": "python",
   "name": "python3"
  },
  "language_info": {
   "codemirror_mode": {
    "name": "ipython",
    "version": 3
   },
   "file_extension": ".py",
   "mimetype": "text/x-python",
   "name": "python",
   "nbconvert_exporter": "python",
   "pygments_lexer": "ipython3",
   "version": "3.8.7"
  }
 },
 "nbformat": 4,
 "nbformat_minor": 4
}
