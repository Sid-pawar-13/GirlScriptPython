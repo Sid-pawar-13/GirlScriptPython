{
 "cells": [
  {
   "cell_type": "code",
   "execution_count": 1,
   "metadata": {},
   "outputs": [],
   "source": [
    "import numpy as np"
   ]
  },
  {
   "cell_type": "markdown",
   "metadata": {},
   "source": [
    "# Lists"
   ]
  },
  {
   "cell_type": "code",
   "execution_count": null,
   "metadata": {},
   "outputs": [],
   "source": [
    "varA = list(range(10))\n",
    "varB = list(range(10, 20))\n",
    "varC = list(range(20, 30))\n",
    "print(varA)\n",
    "print(varB)\n",
    "print(varC)"
   ]
  },
  {
   "cell_type": "code",
   "execution_count": null,
   "metadata": {},
   "outputs": [],
   "source": [
    "dataInAL1 = [varA, varB, varC]\n",
    "dataInAL1"
   ]
  },
  {
   "cell_type": "code",
   "execution_count": null,
   "metadata": {},
   "outputs": [],
   "source": [
    "[sum(i) for i in dataInAL1]"
   ]
  },
  {
   "cell_type": "markdown",
   "metadata": {},
   "source": [
    "# Numpy"
   ]
  },
  {
   "cell_type": "code",
   "execution_count": null,
   "metadata": {},
   "outputs": [],
   "source": [
    "import numpy as np"
   ]
  },
  {
   "cell_type": "code",
   "execution_count": null,
   "metadata": {},
   "outputs": [],
   "source": [
    "sampeData = np.array(dataInAL1)\n",
    "sampeData"
   ]
  },
  {
   "cell_type": "code",
   "execution_count": null,
   "metadata": {},
   "outputs": [],
   "source": [
    "print('size:      ', sampeData.size)\n",
    "print('dimension: ', sampeData.ndim)\n",
    "print('shape:     ', sampeData.shape)\n",
    "print('dtype:     ', sampeData.dtype)\n",
    "print('flags:     ', sampeData.flags)\n",
    "print('strides   ', sampeData.strides)"
   ]
  },
  {
   "cell_type": "code",
   "execution_count": null,
   "metadata": {},
   "outputs": [],
   "source": [
    "sampeData2 = np.array([[.4,.5,.6],[.4,.5,.6]])"
   ]
  },
  {
   "cell_type": "code",
   "execution_count": null,
   "metadata": {},
   "outputs": [],
   "source": [
    "print('size:      ', sampeData2.size)\n",
    "print('dimension: ', sampeData2.ndim)\n",
    "print('shape:     ', sampeData2.shape)\n",
    "print('dtype:     ', sampeData2.dtype)\n",
    "print('flags:     ', sampeData2.flags)\n",
    "print('strides   ', sampeData2.strides)"
   ]
  },
  {
   "cell_type": "markdown",
   "metadata": {},
   "source": [
    "# Transpose"
   ]
  },
  {
   "cell_type": "code",
   "execution_count": null,
   "metadata": {},
   "outputs": [],
   "source": [
    "sampeData.T"
   ]
  },
  {
   "cell_type": "code",
   "execution_count": null,
   "metadata": {},
   "outputs": [],
   "source": [
    "print('size:      ', sampeData.size)\n",
    "print('dimension: ', sampeData.ndim)\n",
    "print('shape:     ', sampeData.shape)\n",
    "print('dtype:     ', sampeData.dtype)\n",
    "print('flags:     ', sampeData.flags)\n",
    "print('strides   ', sampeData.strides)"
   ]
  },
  {
   "cell_type": "code",
   "execution_count": null,
   "metadata": {},
   "outputs": [],
   "source": [
    "sampeData.strides"
   ]
  },
  {
   "cell_type": "code",
   "execution_count": null,
   "metadata": {},
   "outputs": [],
   "source": [
    "sampeData.transpose().strides"
   ]
  },
  {
   "cell_type": "markdown",
   "metadata": {},
   "source": [
    "# Slicing in numpy"
   ]
  },
  {
   "cell_type": "code",
   "execution_count": null,
   "metadata": {},
   "outputs": [],
   "source": [
    "sampeData"
   ]
  },
  {
   "cell_type": "code",
   "execution_count": null,
   "metadata": {},
   "outputs": [],
   "source": [
    "sampeData[:, :]"
   ]
  },
  {
   "cell_type": "code",
   "execution_count": null,
   "metadata": {},
   "outputs": [],
   "source": [
    "sampeData[::]"
   ]
  },
  {
   "cell_type": "code",
   "execution_count": null,
   "metadata": {},
   "outputs": [],
   "source": [
    "sampeData[:2]"
   ]
  },
  {
   "cell_type": "code",
   "execution_count": null,
   "metadata": {},
   "outputs": [],
   "source": [
    "sampeData[1:, 3:5]"
   ]
  },
  {
   "cell_type": "code",
   "execution_count": null,
   "metadata": {},
   "outputs": [],
   "source": [
    "sampeData[2][-1]"
   ]
  },
  {
   "cell_type": "code",
   "execution_count": null,
   "metadata": {},
   "outputs": [],
   "source": [
    "sampeData"
   ]
  },
  {
   "cell_type": "code",
   "execution_count": null,
   "metadata": {},
   "outputs": [],
   "source": [
    "sampeData.flags"
   ]
  },
  {
   "cell_type": "code",
   "execution_count": null,
   "metadata": {},
   "outputs": [],
   "source": [
    "sampeData[::2].flags"
   ]
  },
  {
   "cell_type": "code",
   "execution_count": null,
   "metadata": {},
   "outputs": [],
   "source": [
    "sampeData[::2].strides"
   ]
  },
  {
   "cell_type": "code",
   "execution_count": null,
   "metadata": {},
   "outputs": [],
   "source": [
    "sampeData[::2, ::2]"
   ]
  },
  {
   "cell_type": "code",
   "execution_count": null,
   "metadata": {},
   "outputs": [],
   "source": [
    "sampeData[::2, ::2].strides"
   ]
  },
  {
   "cell_type": "code",
   "execution_count": null,
   "metadata": {},
   "outputs": [],
   "source": [
    "sampeData[::2, ::2].flags"
   ]
  },
  {
   "cell_type": "markdown",
   "metadata": {},
   "source": [
    "# Copy the data"
   ]
  },
  {
   "cell_type": "code",
   "execution_count": null,
   "metadata": {},
   "outputs": [],
   "source": [
    "sampeCopyData = sampeData"
   ]
  },
  {
   "cell_type": "code",
   "execution_count": null,
   "metadata": {},
   "outputs": [],
   "source": [
    "sampeCopyData"
   ]
  },
  {
   "cell_type": "code",
   "execution_count": null,
   "metadata": {},
   "outputs": [],
   "source": [
    "sampeData[1][3] = 15"
   ]
  },
  {
   "cell_type": "code",
   "execution_count": null,
   "metadata": {},
   "outputs": [],
   "source": [
    "sampeData"
   ]
  },
  {
   "cell_type": "code",
   "execution_count": null,
   "metadata": {},
   "outputs": [],
   "source": [
    "sampeCopyData"
   ]
  },
  {
   "cell_type": "code",
   "execution_count": null,
   "metadata": {},
   "outputs": [],
   "source": [
    "sampetruecopy = sampeData.copy()"
   ]
  },
  {
   "cell_type": "code",
   "execution_count": null,
   "metadata": {},
   "outputs": [],
   "source": [
    "sampeData[1][4] = 1000"
   ]
  },
  {
   "cell_type": "code",
   "execution_count": null,
   "metadata": {},
   "outputs": [],
   "source": [
    "sampeData"
   ]
  },
  {
   "cell_type": "code",
   "execution_count": null,
   "metadata": {},
   "outputs": [],
   "source": [
    "sampetruecopy"
   ]
  },
  {
   "cell_type": "markdown",
   "metadata": {},
   "source": [
    "# Mathematical Operations (Axis Wise Evaluations)"
   ]
  },
  {
   "cell_type": "code",
   "execution_count": null,
   "metadata": {},
   "outputs": [],
   "source": [
    "varA_1 = list(range(0, 2000))\n",
    "varA_2 = list(range(2000, 4000))\n",
    "varA_3 = list(range(4000, 6000))\n",
    "varAcom = [varA_1, varA_2, varA_3]"
   ]
  },
  {
   "cell_type": "code",
   "execution_count": null,
   "metadata": {},
   "outputs": [],
   "source": [
    "data = np.array(varAcom)\n",
    "data"
   ]
  },
  {
   "cell_type": "code",
   "execution_count": null,
   "metadata": {},
   "outputs": [],
   "source": [
    "data.shape, data.size"
   ]
  },
  {
   "cell_type": "code",
   "execution_count": null,
   "metadata": {},
   "outputs": [],
   "source": [
    "np.sum(data)"
   ]
  },
  {
   "cell_type": "code",
   "execution_count": null,
   "metadata": {},
   "outputs": [],
   "source": [
    "np.sum(data, axis = 0)"
   ]
  },
  {
   "cell_type": "code",
   "execution_count": null,
   "metadata": {},
   "outputs": [],
   "source": [
    "np.sum(data, axis = 1)"
   ]
  },
  {
   "cell_type": "markdown",
   "metadata": {},
   "source": [
    "# 1 for rows 0 for columns"
   ]
  },
  {
   "cell_type": "code",
   "execution_count": null,
   "metadata": {},
   "outputs": [],
   "source": [
    "np.max(data)"
   ]
  },
  {
   "cell_type": "code",
   "execution_count": null,
   "metadata": {},
   "outputs": [],
   "source": [
    "np.max(data, axis = 0)"
   ]
  },
  {
   "cell_type": "code",
   "execution_count": null,
   "metadata": {},
   "outputs": [],
   "source": [
    "np.max(data, axis = 1)"
   ]
  },
  {
   "cell_type": "markdown",
   "metadata": {},
   "source": [
    "# Random numbers/Reshape"
   ]
  },
  {
   "cell_type": "code",
   "execution_count": null,
   "metadata": {},
   "outputs": [],
   "source": [
    "randSamData = np.random.random(6000)\n",
    "randSamData"
   ]
  },
  {
   "cell_type": "code",
   "execution_count": null,
   "metadata": {},
   "outputs": [],
   "source": [
    "randSamData.size"
   ]
  },
  {
   "cell_type": "code",
   "execution_count": null,
   "metadata": {},
   "outputs": [],
   "source": [
    "randSamData.shape"
   ]
  },
  {
   "cell_type": "code",
   "execution_count": null,
   "metadata": {},
   "outputs": [],
   "source": [
    "matrixFromRandom = randSamData.reshape(200, 30)\n",
    "matrixFromRandom"
   ]
  },
  {
   "cell_type": "code",
   "execution_count": null,
   "metadata": {},
   "outputs": [],
   "source": [
    "matrixFromRandom.shape"
   ]
  },
  {
   "cell_type": "code",
   "execution_count": null,
   "metadata": {},
   "outputs": [],
   "source": [
    "matrixFromRandom.sum()"
   ]
  },
  {
   "cell_type": "code",
   "execution_count": null,
   "metadata": {},
   "outputs": [],
   "source": [
    "np.sum(matrixFromRandom)"
   ]
  },
  {
   "cell_type": "code",
   "execution_count": null,
   "metadata": {},
   "outputs": [],
   "source": [
    "np.sum(matrixFromRandom, axis = 1).size"
   ]
  },
  {
   "cell_type": "code",
   "execution_count": null,
   "metadata": {},
   "outputs": [],
   "source": [
    "np.sum(matrixFromRandom, axis = 0).size"
   ]
  },
  {
   "cell_type": "code",
   "execution_count": null,
   "metadata": {},
   "outputs": [],
   "source": [
    "matrixFromRandom.sum(axis = 1).shape"
   ]
  },
  {
   "cell_type": "code",
   "execution_count": null,
   "metadata": {},
   "outputs": [],
   "source": [
    "matrixFromRandom.sum(axis = 0).shape"
   ]
  },
  {
   "cell_type": "code",
   "execution_count": null,
   "metadata": {},
   "outputs": [],
   "source": [
    "matrixFromRandom[0]"
   ]
  },
  {
   "cell_type": "markdown",
   "metadata": {},
   "source": [
    "# Example 1"
   ]
  },
  {
   "cell_type": "markdown",
   "metadata": {},
   "source": [
    "create a numpy array with random numbers and get the numbers closest to .50"
   ]
  },
  {
   "cell_type": "code",
   "execution_count": null,
   "metadata": {},
   "outputs": [],
   "source": [
    "sampData = np.random.random(25)\n",
    "sampData"
   ]
  },
  {
   "cell_type": "code",
   "execution_count": null,
   "metadata": {},
   "outputs": [],
   "source": [
    "sampData = sampData.reshape(5, 5)\n",
    "sampData"
   ]
  },
  {
   "cell_type": "code",
   "execution_count": null,
   "metadata": {},
   "outputs": [],
   "source": [
    "sampData = abs(sampData-.5)\n",
    "sampData"
   ]
  },
  {
   "cell_type": "code",
   "execution_count": null,
   "metadata": {},
   "outputs": [],
   "source": [
    "np.argmin(sampData, axis = 0)"
   ]
  },
  {
   "cell_type": "code",
   "execution_count": null,
   "metadata": {},
   "outputs": [],
   "source": [
    "sampData"
   ]
  },
  {
   "cell_type": "code",
   "execution_count": null,
   "metadata": {},
   "outputs": [],
   "source": [
    "np.argmin(sampData, axis = 1)"
   ]
  },
  {
   "cell_type": "code",
   "execution_count": null,
   "metadata": {},
   "outputs": [],
   "source": [
    "sampData"
   ]
  },
  {
   "cell_type": "markdown",
   "metadata": {},
   "source": [
    "# Example 2"
   ]
  },
  {
   "cell_type": "markdown",
   "metadata": {},
   "source": [
    "select the top 5 columns on order of highest variance"
   ]
  },
  {
   "cell_type": "code",
   "execution_count": null,
   "metadata": {},
   "outputs": [],
   "source": [
    "sampData2 = np.random.random(6000)\n",
    "sampData2"
   ]
  },
  {
   "cell_type": "code",
   "execution_count": null,
   "metadata": {},
   "outputs": [],
   "source": [
    "sampData2 = sampData2.reshape(100, 60)\n",
    "sampData2"
   ]
  },
  {
   "cell_type": "code",
   "execution_count": null,
   "metadata": {},
   "outputs": [],
   "source": [
    "varInfo = np.var(sampData2, axis = 0)\n",
    "varInfo"
   ]
  },
  {
   "cell_type": "code",
   "execution_count": null,
   "metadata": {},
   "outputs": [],
   "source": [
    "incOrder = np.argsort(varInfo)\n",
    "incOrder"
   ]
  },
  {
   "cell_type": "code",
   "execution_count": null,
   "metadata": {},
   "outputs": [],
   "source": [
    "incOrder[-5:]"
   ]
  },
  {
   "cell_type": "code",
   "execution_count": null,
   "metadata": {},
   "outputs": [],
   "source": [
    "sampData2[:, incOrder[-5:]]"
   ]
  },
  {
   "cell_type": "code",
   "execution_count": null,
   "metadata": {},
   "outputs": [],
   "source": [
    "np.var(sampData2, axis = 0)"
   ]
  },
  {
   "cell_type": "code",
   "execution_count": null,
   "metadata": {},
   "outputs": [],
   "source": [
    "orderOfCol = np.argsort(np.var(sampData2, axis = 0))"
   ]
  },
  {
   "cell_type": "code",
   "execution_count": null,
   "metadata": {},
   "outputs": [],
   "source": [
    "orderOfCol[-5:]"
   ]
  },
  {
   "cell_type": "code",
   "execution_count": null,
   "metadata": {},
   "outputs": [],
   "source": [
    "sampData2.shape"
   ]
  },
  {
   "cell_type": "code",
   "execution_count": null,
   "metadata": {},
   "outputs": [],
   "source": [
    "sampData2[:, orderOfCol[-5:]].shape"
   ]
  },
  {
   "cell_type": "markdown",
   "metadata": {},
   "source": [
    "# Boardcasting"
   ]
  },
  {
   "cell_type": "code",
   "execution_count": null,
   "metadata": {},
   "outputs": [],
   "source": [
    "sampData4 = np.random.random(28).reshape(7, 4)\n",
    "sampData4"
   ]
  },
  {
   "cell_type": "code",
   "execution_count": null,
   "metadata": {},
   "outputs": [],
   "source": [
    "sampData4+5"
   ]
  },
  {
   "cell_type": "code",
   "execution_count": null,
   "metadata": {},
   "outputs": [],
   "source": [
    "sampData4 + np.array([1, 2, 3, 4])"
   ]
  },
  {
   "cell_type": "code",
   "execution_count": null,
   "metadata": {},
   "outputs": [],
   "source": [
    "sampData4 + np.array([1, 2, 3])"
   ]
  },
  {
   "cell_type": "code",
   "execution_count": null,
   "metadata": {},
   "outputs": [],
   "source": [
    "sampData4 + np.array([1, 2, 3, 4, 5, 6, 7])"
   ]
  },
  {
   "cell_type": "code",
   "execution_count": null,
   "metadata": {},
   "outputs": [],
   "source": [
    "np.array([[1], [2], [3], [4], [5], [6], [7]]).shape"
   ]
  },
  {
   "cell_type": "code",
   "execution_count": null,
   "metadata": {},
   "outputs": [],
   "source": [
    "sampData4 + np.array([[1], [2], [3], [4], [5], [6], [7]])"
   ]
  },
  {
   "cell_type": "markdown",
   "metadata": {},
   "source": [
    "# Many matrix languages"
   ]
  },
  {
   "cell_type": "code",
   "execution_count": null,
   "metadata": {},
   "outputs": [],
   "source": [
    "aMatrix = np.array([[1, 1], [0, 1]])\n",
    "bMatrix = np.array([[2, 0], [3, 4]])"
   ]
  },
  {
   "cell_type": "code",
   "execution_count": null,
   "metadata": {},
   "outputs": [],
   "source": [
    "aMatrix"
   ]
  },
  {
   "cell_type": "code",
   "execution_count": null,
   "metadata": {},
   "outputs": [],
   "source": [
    "bMatrix"
   ]
  },
  {
   "cell_type": "code",
   "execution_count": null,
   "metadata": {},
   "outputs": [],
   "source": [
    "aMatrix * bMatrix  # elementwise multiplication"
   ]
  },
  {
   "cell_type": "code",
   "execution_count": null,
   "metadata": {},
   "outputs": [],
   "source": [
    "aMatrix.dot(bMatrix) # matrix product"
   ]
  },
  {
   "cell_type": "code",
   "execution_count": null,
   "metadata": {},
   "outputs": [],
   "source": [
    "np.dot(aMatrix, bMatrix)"
   ]
  },
  {
   "cell_type": "code",
   "execution_count": null,
   "metadata": {},
   "outputs": [],
   "source": [
    "aMatrix @ bMatrix # matrix product"
   ]
  },
  {
   "cell_type": "markdown",
   "metadata": {},
   "source": [
    "# Handy Functions"
   ]
  },
  {
   "cell_type": "code",
   "execution_count": null,
   "metadata": {},
   "outputs": [],
   "source": [
    "np.ones((5, 5))"
   ]
  },
  {
   "cell_type": "code",
   "execution_count": null,
   "metadata": {},
   "outputs": [],
   "source": [
    "type(np.ones((5, 5)))"
   ]
  },
  {
   "cell_type": "code",
   "execution_count": null,
   "metadata": {},
   "outputs": [],
   "source": [
    "arrayOf1s = np.ones((5, 5))"
   ]
  },
  {
   "cell_type": "markdown",
   "metadata": {},
   "source": [
    "# Reshape in new form"
   ]
  },
  {
   "cell_type": "code",
   "execution_count": 2,
   "metadata": {},
   "outputs": [],
   "source": [
    "newArr = np.arange(640)"
   ]
  },
  {
   "cell_type": "code",
   "execution_count": 3,
   "metadata": {},
   "outputs": [],
   "source": [
    "multiDimArr = newArr.reshape(40, 4, 4)"
   ]
  },
  {
   "cell_type": "code",
   "execution_count": 4,
   "metadata": {},
   "outputs": [
    {
     "data": {
      "text/plain": [
       "(640,)"
      ]
     },
     "execution_count": 4,
     "metadata": {},
     "output_type": "execute_result"
    }
   ],
   "source": [
    "newArr.shape"
   ]
  },
  {
   "cell_type": "code",
   "execution_count": 5,
   "metadata": {},
   "outputs": [
    {
     "data": {
      "text/plain": [
       "(40, 4, 4)"
      ]
     },
     "execution_count": 5,
     "metadata": {},
     "output_type": "execute_result"
    }
   ],
   "source": [
    "multiDimArr.shape"
   ]
  },
  {
   "cell_type": "code",
   "execution_count": 6,
   "metadata": {},
   "outputs": [
    {
     "data": {
      "text/plain": [
       "array([[ 0,  1,  2,  3],\n",
       "       [ 4,  5,  6,  7],\n",
       "       [ 8,  9, 10, 11],\n",
       "       [12, 13, 14, 15]])"
      ]
     },
     "execution_count": 6,
     "metadata": {},
     "output_type": "execute_result"
    }
   ],
   "source": [
    "multiDimArr[0]"
   ]
  },
  {
   "cell_type": "code",
   "execution_count": null,
   "metadata": {},
   "outputs": [],
   "source": [
    "newArr"
   ]
  },
  {
   "cell_type": "code",
   "execution_count": null,
   "metadata": {},
   "outputs": [],
   "source": [
    "newArr[np.newaxis, :]"
   ]
  },
  {
   "cell_type": "code",
   "execution_count": null,
   "metadata": {},
   "outputs": [],
   "source": [
    "newArr[: ,np.newaxis]"
   ]
  },
  {
   "cell_type": "code",
   "execution_count": 7,
   "metadata": {},
   "outputs": [
    {
     "data": {
      "text/plain": [
       "(1, 640)"
      ]
     },
     "execution_count": 7,
     "metadata": {},
     "output_type": "execute_result"
    }
   ],
   "source": [
    "newArr[np.newaxis, :].shape"
   ]
  },
  {
   "cell_type": "code",
   "execution_count": 8,
   "metadata": {},
   "outputs": [
    {
     "data": {
      "text/plain": [
       "(640, 1)"
      ]
     },
     "execution_count": 8,
     "metadata": {},
     "output_type": "execute_result"
    }
   ],
   "source": [
    "newArr[: ,np.newaxis].shape"
   ]
  },
  {
   "cell_type": "markdown",
   "metadata": {},
   "source": [
    "# Numpy Where"
   ]
  },
  {
   "cell_type": "code",
   "execution_count": 9,
   "metadata": {},
   "outputs": [
    {
     "data": {
      "text/plain": [
       "array([100, 150, 200, 250, 300, 350, 400, 450])"
      ]
     },
     "execution_count": 9,
     "metadata": {},
     "output_type": "execute_result"
    }
   ],
   "source": [
    "cExampleData = np.arange(100, 500, 50)\n",
    "cExampleData"
   ]
  },
  {
   "cell_type": "code",
   "execution_count": 10,
   "metadata": {},
   "outputs": [
    {
     "data": {
      "text/plain": [
       "(array([0, 1, 2, 3], dtype=int64),)"
      ]
     },
     "execution_count": 10,
     "metadata": {},
     "output_type": "execute_result"
    }
   ],
   "source": [
    "np.where(cExampleData < 300)"
   ]
  },
  {
   "cell_type": "code",
   "execution_count": 11,
   "metadata": {},
   "outputs": [
    {
     "data": {
      "text/plain": [
       "array([100, 150, 200, 250])"
      ]
     },
     "execution_count": 11,
     "metadata": {},
     "output_type": "execute_result"
    }
   ],
   "source": [
    "cExampleData[np.where(cExampleData < 300)]"
   ]
  },
  {
   "cell_type": "markdown",
   "metadata": {},
   "source": [
    "# Dense layer calculation using numpy"
   ]
  },
  {
   "cell_type": "code",
   "execution_count": 20,
   "metadata": {},
   "outputs": [
    {
     "data": {
      "text/plain": [
       "array([0.96658958, 0.56158657, 0.2712573 , 0.34731662, 0.74443709,\n",
       "       0.93317398, 0.31846483, 0.5844493 , 0.28803533, 0.11795907,\n",
       "       0.07523243, 0.86992149, 0.5909167 , 0.49590866, 0.88234372,\n",
       "       0.29733055, 0.0973423 , 0.43698263, 0.79594633, 0.90300717])"
      ]
     },
     "execution_count": 20,
     "metadata": {},
     "output_type": "execute_result"
    }
   ],
   "source": [
    "inputLayer = np.random.random(20)\n",
    "inputLayer"
   ]
  },
  {
   "cell_type": "code",
   "execution_count": 21,
   "metadata": {},
   "outputs": [],
   "source": [
    "hiddenLayer = np.random.randn(500, 20)"
   ]
  },
  {
   "cell_type": "code",
   "execution_count": 26,
   "metadata": {},
   "outputs": [],
   "source": [
    "biasLayer = np.random.random(500)"
   ]
  },
  {
   "cell_type": "code",
   "execution_count": 27,
   "metadata": {},
   "outputs": [],
   "source": [
    "output = np.dot(hiddenLayer, inputLayer) + biasLayer"
   ]
  },
  {
   "cell_type": "code",
   "execution_count": 28,
   "metadata": {},
   "outputs": [
    {
     "data": {
      "text/plain": [
       "(500,)"
      ]
     },
     "execution_count": 28,
     "metadata": {},
     "output_type": "execute_result"
    }
   ],
   "source": [
    "output.shape"
   ]
  },
  {
   "cell_type": "code",
   "execution_count": 29,
   "metadata": {},
   "outputs": [
    {
     "data": {
      "text/plain": [
       "array([0.        , 0.        , 0.35621247, 5.09028908, 2.5437371 ,\n",
       "       0.        , 0.        , 0.        , 0.        , 2.78160476,\n",
       "       0.46347749, 1.80565479, 0.        , 4.27606966, 0.        ,\n",
       "       0.        , 4.97295868, 7.37010574, 2.86945572, 0.69567922,\n",
       "       0.        , 0.97104054, 0.        , 3.54277236, 0.85112787,\n",
       "       0.        , 2.04185997, 3.396102  , 0.85470219, 3.98127374,\n",
       "       0.98833167, 0.        , 1.74766804, 0.        , 1.76336155,\n",
       "       1.73801213, 0.        , 5.08785364, 0.        , 6.17196987,\n",
       "       4.37578957, 0.        , 0.99876641, 3.77742432, 1.68366979,\n",
       "       0.        , 1.2461401 , 5.34752137, 0.        , 1.07971032,\n",
       "       0.        , 0.        , 0.        , 0.        , 2.89102075,\n",
       "       0.68596601, 4.61269418, 0.66059112, 4.22871203, 0.48109266,\n",
       "       2.17774642, 0.        , 0.89211215, 2.09359715, 1.4459319 ,\n",
       "       5.34183035, 0.        , 3.03474631, 0.67826778, 5.96995523,\n",
       "       0.        , 0.69161215, 0.        , 0.        , 3.61404277,\n",
       "       0.        , 2.86488946, 4.03287669, 1.48616706, 0.        ,\n",
       "       4.90852624, 0.07023786, 1.58121296, 3.21739244, 3.14688518,\n",
       "       0.        , 0.        , 0.        , 5.13016975, 0.        ,\n",
       "       3.02963274, 4.5263474 , 0.        , 0.75039772, 0.        ,\n",
       "       0.        , 0.42667568, 2.47053577, 0.        , 4.51446927,\n",
       "       0.        , 6.52084868, 2.08945302, 1.38433764, 0.        ,\n",
       "       1.02567269, 1.5142057 , 0.        , 0.        , 2.42406023,\n",
       "       0.04517777, 2.15800559, 1.30953497, 4.19260151, 0.        ,\n",
       "       0.        , 0.        , 1.69592949, 0.        , 1.12789322,\n",
       "       0.5358649 , 1.15934752, 3.19937965, 1.17843521, 3.92379299,\n",
       "       0.5685046 , 0.        , 0.        , 4.06606985, 0.        ,\n",
       "       0.        , 0.        , 0.        , 0.59217794, 0.2018527 ,\n",
       "       5.77467828, 0.        , 2.28740505, 0.        , 1.6968017 ,\n",
       "       0.        , 2.3119475 , 1.11923506, 0.        , 0.        ,\n",
       "       0.        , 0.97088278, 0.26858654, 0.        , 3.97131452,\n",
       "       0.        , 0.74178821, 1.40372455, 2.0035266 , 1.15807259,\n",
       "       1.27386061, 5.29972319, 0.6808139 , 2.99097672, 0.        ,\n",
       "       0.        , 0.        , 0.        , 0.        , 2.91773738,\n",
       "       0.        , 2.24252302, 0.        , 1.19556327, 0.        ,\n",
       "       3.14472188, 0.38621319, 0.        , 0.30446595, 0.08147204,\n",
       "       0.        , 2.05720839, 0.89057389, 0.        , 0.        ,\n",
       "       2.3028288 , 0.        , 1.68532622, 2.41039725, 1.74859123,\n",
       "       3.26345022, 1.91960435, 4.72745303, 0.        , 0.51862416,\n",
       "       0.90007119, 4.34820749, 0.        , 0.48869447, 0.        ,\n",
       "       0.2291538 , 0.52996268, 1.20107185, 1.94378881, 0.00960725,\n",
       "       5.21999268, 0.        , 0.        , 0.        , 3.47472552,\n",
       "       2.93832083, 5.81082493, 2.11751832, 0.55536861, 0.        ,\n",
       "       0.84059905, 0.        , 0.        , 0.        , 3.6549655 ,\n",
       "       0.97571547, 4.64271913, 2.20029069, 4.43912808, 0.        ,\n",
       "       0.        , 1.58771757, 5.23986394, 0.98970395, 6.12567176,\n",
       "       0.47779541, 0.        , 0.        , 2.20901841, 0.        ,\n",
       "       0.        , 0.72938798, 0.        , 2.02584476, 0.10198679,\n",
       "       0.        , 2.31073522, 0.20429654, 0.        , 0.        ,\n",
       "       4.57909374, 0.        , 0.        , 5.85620434, 0.        ,\n",
       "       0.        , 3.2195207 , 0.        , 0.        , 0.02163272,\n",
       "       0.        , 0.        , 0.        , 0.        , 1.0659314 ,\n",
       "       3.1816517 , 0.        , 0.56666018, 5.03952863, 1.82880376,\n",
       "       2.17528578, 0.10186782, 4.641216  , 2.02715485, 2.99890674,\n",
       "       2.84370908, 0.39654134, 0.55688831, 1.68360145, 1.80481162,\n",
       "       1.11458182, 0.        , 2.68102746, 2.35614236, 0.        ,\n",
       "       1.77745355, 1.25838462, 3.55455555, 0.        , 1.8160876 ,\n",
       "       0.        , 1.19332498, 0.        , 3.14587437, 4.89538025,\n",
       "       1.34812612, 2.49031826, 0.        , 2.02365284, 0.        ,\n",
       "       0.        , 3.71916445, 5.20264156, 0.        , 0.        ,\n",
       "       2.1721644 , 1.44782752, 2.0960856 , 0.        , 0.92774789,\n",
       "       0.        , 3.00547654, 2.07387244, 0.        , 2.99105144,\n",
       "       2.97063874, 0.        , 0.        , 0.        , 0.05612047,\n",
       "       1.65978238, 4.58822738, 2.39453914, 0.        , 2.99619632,\n",
       "       0.        , 0.1751246 , 3.19200634, 2.90690703, 3.50951279,\n",
       "       3.19148865, 0.        , 0.2079054 , 0.40888434, 2.36861724,\n",
       "       1.75986284, 0.        , 0.        , 0.07710901, 0.        ,\n",
       "       0.        , 0.        , 2.0552255 , 1.23777222, 3.94612396,\n",
       "       2.0627704 , 2.72029318, 0.        , 4.96133763, 0.        ,\n",
       "       0.        , 2.44955924, 2.05727563, 3.49465855, 0.        ,\n",
       "       3.52044506, 0.        , 1.10349599, 0.58001391, 0.        ,\n",
       "       0.        , 1.14459204, 2.34418704, 0.        , 0.        ,\n",
       "       0.        , 0.        , 2.48812968, 0.7613947 , 2.22730413,\n",
       "       5.6502247 , 1.8666021 , 0.41651754, 0.        , 0.        ,\n",
       "       0.        , 0.        , 0.698876  , 0.        , 0.15557633,\n",
       "       1.29372786, 5.31465231, 3.53311053, 1.33788294, 0.        ,\n",
       "       2.54636058, 1.21896614, 2.74700852, 2.71609399, 0.        ,\n",
       "       0.        , 2.18101983, 0.        , 0.        , 1.82572019,\n",
       "       0.        , 4.71607988, 0.45865281, 0.        , 3.89747339,\n",
       "       0.75751703, 0.        , 0.        , 2.81757583, 3.3612372 ,\n",
       "       0.        , 3.16303021, 1.75899284, 2.74585577, 0.        ,\n",
       "       5.74452179, 5.75184883, 1.00941462, 1.3623668 , 0.        ,\n",
       "       0.        , 0.        , 3.22355344, 0.        , 0.        ,\n",
       "       0.        , 0.        , 0.        , 0.69289021, 0.        ,\n",
       "       0.        , 0.95937308, 1.04766218, 0.        , 0.        ,\n",
       "       4.67036599, 0.        , 0.19478073, 0.        , 3.51965241,\n",
       "       5.45362082, 0.64919803, 5.8464453 , 0.09326746, 0.        ,\n",
       "       2.79417551, 3.35308941, 1.20628286, 2.21431421, 1.65400777,\n",
       "       1.21756483, 1.00031056, 2.49923823, 1.18088898, 0.10707792,\n",
       "       2.99148697, 0.        , 2.04160756, 0.        , 3.40688113,\n",
       "       0.01619174, 0.63594491, 2.09125707, 3.03666941, 0.        ,\n",
       "       0.        , 0.        , 0.        , 0.71513996, 0.        ,\n",
       "       0.3557212 , 2.00406716, 2.4269457 , 5.25712687, 0.        ,\n",
       "       0.        , 4.9122876 , 0.        , 0.        , 0.43756059,\n",
       "       0.        , 0.07792896, 0.        , 0.        , 2.46148046,\n",
       "       0.81207259, 0.        , 0.        , 3.20647942, 0.        ,\n",
       "       0.        , 3.04355087, 0.        , 0.        , 1.14557755,\n",
       "       0.73185359, 3.51046978, 0.        , 0.        , 0.        ,\n",
       "       0.        , 0.        , 0.        , 0.73495716, 0.        ,\n",
       "       0.        , 0.        , 0.        , 0.        , 3.04137633,\n",
       "       2.30789882, 0.        , 0.        , 0.        , 0.        ])"
      ]
     },
     "execution_count": 29,
     "metadata": {},
     "output_type": "execute_result"
    }
   ],
   "source": [
    "np.maximum(0, output)"
   ]
  },
  {
   "cell_type": "markdown",
   "metadata": {},
   "source": [
    "# Convolution layer using Numpy"
   ]
  },
  {
   "cell_type": "code",
   "execution_count": null,
   "metadata": {},
   "outputs": [],
   "source": []
  }
 ],
 "metadata": {
  "kernelspec": {
   "display_name": "Python 3",
   "language": "python",
   "name": "python3"
  },
  "language_info": {
   "codemirror_mode": {
    "name": "ipython",
    "version": 3
   },
   "file_extension": ".py",
   "mimetype": "text/x-python",
   "name": "python",
   "nbconvert_exporter": "python",
   "pygments_lexer": "ipython3",
   "version": "3.8.7"
  }
 },
 "nbformat": 4,
 "nbformat_minor": 4
}
