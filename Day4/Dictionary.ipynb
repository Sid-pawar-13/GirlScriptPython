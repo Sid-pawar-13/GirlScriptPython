{
 "metadata": {
  "language_info": {
   "codemirror_mode": {
    "name": "ipython",
    "version": 3
   },
   "file_extension": ".py",
   "mimetype": "text/x-python",
   "name": "python",
   "nbconvert_exporter": "python",
   "pygments_lexer": "ipython3",
   "version": "3.7.8-candidate"
  },
  "orig_nbformat": 2,
  "kernelspec": {
   "name": "python3",
   "display_name": "Python 3.7.8 64-bit",
   "metadata": {
    "interpreter": {
     "hash": "2661fe8998ba1d39239e83ab1b820ea0d7cbfc09746e6db3382a3752a2b331b3"
    }
   }
  }
 },
 "nbformat": 4,
 "nbformat_minor": 2,
 "cells": [
  {
   "source": [
    "# Dictionary"
   ],
   "cell_type": "markdown",
   "metadata": {}
  },
  {
   "source": [
    "A dictionary is a collection of key value pairs.\n",
    "A dictionary is a collection which is unordered, changeable and indexed."
   ],
   "cell_type": "markdown",
   "metadata": {}
  },
  {
   "source": [
    "Seeing a Dictionary"
   ],
   "cell_type": "markdown",
   "metadata": {}
  },
  {
   "cell_type": "code",
   "execution_count": null,
   "metadata": {},
   "outputs": [],
   "source": [
    "dict1 = {}\n",
    "print('dict1 :',dict1)\n",
    "print('type(dict1) :',type(dict1))"
   ]
  },
  {
   "source": [
    "Creating Dictionary"
   ],
   "cell_type": "markdown",
   "metadata": {}
  },
  {
   "cell_type": "code",
   "execution_count": null,
   "metadata": {},
   "outputs": [],
   "source": [
    "dict2 = {1:'A',2:'B',3:'c',4:'d'}\n",
    "print('dict2 :',dict2)"
   ]
  },
  {
   "source": [
    "Different ways of accessing items of Dictionary."
   ],
   "cell_type": "markdown",
   "metadata": {}
  },
  {
   "cell_type": "code",
   "execution_count": null,
   "metadata": {},
   "outputs": [],
   "source": [
    "dict3 = dict([(1,'hi'),(2,'i am'),(3,'fine')])\n",
    "print('dict3 :',dict3)\n",
    "print('keys :',dict3.keys())\n",
    "print('values :',dict3.values())\n",
    "print('dict3[1] :',dict3[1])"
   ]
  },
  {
   "source": [
    "Nested Dictionary and its accessing"
   ],
   "cell_type": "markdown",
   "metadata": {}
  },
  {
   "cell_type": "code",
   "execution_count": null,
   "metadata": {},
   "outputs": [],
   "source": [
    "dict4 = {1:'a',2:'b',3:'c',4:'d',5:['e','f'],6:{'A':'hi','B':'I','C':'am'}}\n",
    "print('dict4 :',dict4)\n",
    "print('dict4 :',dict4[5])\n",
    "print('dict4[5][1]',dict4[5][1])\n",
    "print('dict4[6]',dict4[6])\n",
    "print('dict4[6][\"B\"]',dict4[6][\"B\"])"
   ]
  },
  {
   "source": [
    "Adding a value in Dictionary."
   ],
   "cell_type": "markdown",
   "metadata": {}
  },
  {
   "cell_type": "code",
   "execution_count": null,
   "metadata": {},
   "outputs": [],
   "source": [
    "dict5 = {1:'a',2:'b',3:'c',4:'d'}\n",
    "print('dict5 :',dict5)\n",
    "dict5[5] = 'e'\n",
    "print('dict5 :',dict5)"
   ]
  },
  {
   "source": [
    "Removing a key value pair using pop()"
   ],
   "cell_type": "markdown",
   "metadata": {}
  },
  {
   "cell_type": "code",
   "execution_count": null,
   "metadata": {},
   "outputs": [],
   "source": [
    "dict5.pop(5)\n",
    "print('dict5 :',dict5)"
   ]
  },
  {
   "source": [
    "Clearing the Dictionary using clear()"
   ],
   "cell_type": "markdown",
   "metadata": {}
  },
  {
   "cell_type": "code",
   "execution_count": null,
   "metadata": {},
   "outputs": [],
   "source": [
    "dict5.clear()\n",
    "print('dict5 :',dict5)"
   ]
  },
  {
   "source": [
    "Extending a Dictionary using update() and second Dictionary."
   ],
   "cell_type": "markdown",
   "metadata": {}
  },
  {
   "cell_type": "code",
   "execution_count": null,
   "metadata": {},
   "outputs": [],
   "source": [
    "dict6 = {1:'a',2:'b',3:'c',4:'d'}\n",
    "dict7 = {5:'e',6:'f'}\n",
    "print(dict6)\n",
    "print(dict7)\n",
    "dict6.update(dict7)\n",
    "print(dict6)"
   ]
  },
  {
   "source": [
    "Deleting a Dictionary using del"
   ],
   "cell_type": "markdown",
   "metadata": {}
  },
  {
   "cell_type": "code",
   "execution_count": null,
   "metadata": {},
   "outputs": [],
   "source": [
    "del dict7\n",
    "print(dict7)"
   ]
  },
  {
   "cell_type": "code",
   "execution_count": null,
   "metadata": {},
   "outputs": [],
   "source": []
  }
 ]
}