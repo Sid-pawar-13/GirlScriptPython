{
 "metadata": {
  "language_info": {
   "codemirror_mode": {
    "name": "ipython",
    "version": 3
   },
   "file_extension": ".py",
   "mimetype": "text/x-python",
   "name": "python",
   "nbconvert_exporter": "python",
   "pygments_lexer": "ipython3",
   "version": 3
  },
  "orig_nbformat": 2
 },
 "nbformat": 4,
 "nbformat_minor": 2,
 "cells": [
  {
   "source": [
    "Sets"
   ],
   "cell_type": "markdown",
   "metadata": {}
  },
  {
   "source": [
    "Sets are used to store multiple items in a single variable.\n",
    "A set is a collection which is both unordered and unindexed.\n",
    "Set items are unordered, unchangeable, and do not allow duplicate values."
   ],
   "cell_type": "markdown",
   "metadata": {}
  },
  {
   "cell_type": "code",
   "execution_count": null,
   "metadata": {},
   "outputs": [],
   "source": [
    "list1 = [1,2,3,40]\n",
    "print(list1)\n",
    "print(type(list1))\n",
    "set1 = set(list1)\n",
    "print(set1)\n",
    "print(type(set1))"
   ]
  },
  {
   "cell_type": "code",
   "execution_count": null,
   "metadata": {},
   "outputs": [],
   "source": [
    "set2 = {}\n",
    "print(type(set2))\n",
    "set3 = set()\n",
    "print(type(set3))"
   ]
  },
  {
   "cell_type": "code",
   "execution_count": null,
   "metadata": {},
   "outputs": [],
   "source": [
    "set4 = set([1,2,3,4,5,6,7])\n",
    "print(set4)\n",
    "set4.add(8)\n",
    "print(set4)\n",
    "set4.add(3)\n",
    "print(set4)\n",
    "set4.remove(8)\n",
    "print(set4)\n",
    "set4.pop()\n",
    "print(set4)\n",
    "set4.discard(8)\n",
    "print(set4)\n",
    "set4.clear()\n",
    "print(set4)"
   ]
  },
  {
   "cell_type": "code",
   "execution_count": null,
   "metadata": {},
   "outputs": [],
   "source": [
    "A = {'red','blue','orange','green'}\n",
    "B = {'black','white','pink','green','red'}\n",
    "print(A|B) #pip\n",
    "C = A.union(B)\n",
    "print(C)"
   ]
  },
  {
   "cell_type": "code",
   "execution_count": null,
   "metadata": {},
   "outputs": [],
   "source": [
    "print(A&B)\n",
    "print(A.intersection(B))"
   ]
  },
  {
   "cell_type": "code",
   "execution_count": null,
   "metadata": {},
   "outputs": [],
   "source": [
    "print(A-B)\n",
    "print(A.difference(B))"
   ]
  },
  {
   "cell_type": "code",
   "execution_count": null,
   "metadata": {},
   "outputs": [],
   "source": [
    "print('green' in A)\n",
    "print(A==B)\n",
    "print(A!=B)\n",
    "print(A<=B) # subset\n",
    "print(A<B) # proper subset\n",
    "print(A^B) # returns elements which are not common"
   ]
  }
 ]
}