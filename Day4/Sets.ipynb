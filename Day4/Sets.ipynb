{
 "metadata": {
  "language_info": {
   "codemirror_mode": {
    "name": "ipython",
    "version": 3
   },
   "file_extension": ".py",
   "mimetype": "text/x-python",
   "name": "python",
   "nbconvert_exporter": "python",
   "pygments_lexer": "ipython3",
   "version": "3.7.8-candidate"
  },
  "orig_nbformat": 2,
  "kernelspec": {
   "name": "python3",
   "display_name": "Python 3.7.8 64-bit",
   "metadata": {
    "interpreter": {
     "hash": "2661fe8998ba1d39239e83ab1b820ea0d7cbfc09746e6db3382a3752a2b331b3"
    }
   }
  }
 },
 "nbformat": 4,
 "nbformat_minor": 2,
 "cells": [
  {
   "source": [
    "Sets"
   ],
   "cell_type": "markdown",
   "metadata": {}
  },
  {
   "source": [
    "Sets are used to store multiple items in a single variable.\n",
    "A set is a collection which is both unordered and unindexed.\n",
    "Set items are unordered, unchangeable, and do not allow duplicate values."
   ],
   "cell_type": "markdown",
   "metadata": {}
  },
  {
   "source": [
    "Creating Sets"
   ],
   "cell_type": "markdown",
   "metadata": {}
  },
  {
   "cell_type": "code",
   "execution_count": null,
   "metadata": {},
   "outputs": [],
   "source": [
    "list1 = [1,2,3,40]\n",
    "print(list1)\n",
    "print(type(list1))\n",
    "set1 = set(list1)\n",
    "print(set1)\n",
    "print(type(set1))"
   ]
  },
  {
   "source": [
    "Different ways to create sets"
   ],
   "cell_type": "markdown",
   "metadata": {}
  },
  {
   "cell_type": "code",
   "execution_count": null,
   "metadata": {},
   "outputs": [],
   "source": [
    "set2 = {}\n",
    "print(type(set2))\n",
    "set3 = set()\n",
    "print(type(set3))"
   ]
  },
  {
   "source": [
    "Modifying sets"
   ],
   "cell_type": "markdown",
   "metadata": {}
  },
  {
   "source": [
    "Adding elements"
   ],
   "cell_type": "markdown",
   "metadata": {}
  },
  {
   "cell_type": "code",
   "execution_count": null,
   "metadata": {},
   "outputs": [],
   "source": [
    "set4 = set([1,2,3,4,5,6,7])\n",
    "print(set4)\n",
    "set4.add(8)\n",
    "print(set4)\n",
    "set4.add(3)\n",
    "print(set4)"
   ]
  },
  {
   "source": [
    "Removing elements using remove(), if element does not exit than it gives an error"
   ],
   "cell_type": "markdown",
   "metadata": {}
  },
  {
   "cell_type": "code",
   "execution_count": null,
   "metadata": {},
   "outputs": [],
   "source": [
    "set4.remove(8)\n",
    "print(set4)"
   ]
  },
  {
   "source": [
    "Removing elements using pop() since sets are unordered, random element gets removed."
   ],
   "cell_type": "markdown",
   "metadata": {}
  },
  {
   "cell_type": "code",
   "execution_count": null,
   "metadata": {},
   "outputs": [],
   "source": [
    "set4.pop()\n",
    "print(set4)"
   ]
  },
  {
   "source": [
    "Removing elements using discard(), this removes the element from set if it exists in set otherwise is does not do anything"
   ],
   "cell_type": "markdown",
   "metadata": {}
  },
  {
   "cell_type": "code",
   "execution_count": null,
   "metadata": {},
   "outputs": [],
   "source": [
    "set4.discard(8)\n",
    "print(set4)"
   ]
  },
  {
   "source": [
    "Clearing a set"
   ],
   "cell_type": "markdown",
   "metadata": {}
  },
  {
   "cell_type": "code",
   "execution_count": null,
   "metadata": {},
   "outputs": [],
   "source": [
    "set4.clear()\n",
    "print(set4)"
   ]
  },
  {
   "source": [
    "Union of sets"
   ],
   "cell_type": "markdown",
   "metadata": {}
  },
  {
   "cell_type": "code",
   "execution_count": null,
   "metadata": {},
   "outputs": [],
   "source": [
    "A = {'red','blue','orange','green'}\n",
    "B = {'black','white','pink','green','red'}\n",
    "print(A|B) # | is called pip\n",
    "C = A.union(B)\n",
    "print(C)"
   ]
  },
  {
   "source": [
    "Intersection of sets"
   ],
   "cell_type": "markdown",
   "metadata": {}
  },
  {
   "cell_type": "code",
   "execution_count": null,
   "metadata": {},
   "outputs": [],
   "source": [
    "print(A&B)\n",
    "print(A.intersection(B))"
   ]
  },
  {
   "source": [
    "Difference of sets"
   ],
   "cell_type": "markdown",
   "metadata": {}
  },
  {
   "cell_type": "code",
   "execution_count": null,
   "metadata": {},
   "outputs": [],
   "source": [
    "print(A-B)\n",
    "print(A.difference(B))"
   ]
  },
  {
   "source": [
    "Finding if element exist in set"
   ],
   "cell_type": "markdown",
   "metadata": {}
  },
  {
   "cell_type": "code",
   "execution_count": null,
   "metadata": {},
   "outputs": [],
   "source": [
    "print('green' in A)"
   ]
  },
  {
   "source": [
    "Finding if sets are equal"
   ],
   "cell_type": "markdown",
   "metadata": {}
  },
  {
   "cell_type": "code",
   "execution_count": null,
   "metadata": {},
   "outputs": [],
   "source": [
    "print(A==B)"
   ]
  },
  {
   "source": [
    "Finding if sets are not equal"
   ],
   "cell_type": "markdown",
   "metadata": {}
  },
  {
   "cell_type": "code",
   "execution_count": null,
   "metadata": {},
   "outputs": [],
   "source": [
    "print(A!=B)"
   ]
  },
  {
   "source": [
    "Finding if one set is subset of other"
   ],
   "cell_type": "markdown",
   "metadata": {}
  },
  {
   "cell_type": "code",
   "execution_count": null,
   "metadata": {},
   "outputs": [],
   "source": [
    "print(A<=B)"
   ]
  },
  {
   "source": [
    "Finding if one set is proper subset of other"
   ],
   "cell_type": "markdown",
   "metadata": {}
  },
  {
   "cell_type": "code",
   "execution_count": null,
   "metadata": {},
   "outputs": [],
   "source": [
    "print(A<B)"
   ]
  },
  {
   "source": [
    "Symmetric Difference i.e. Return elements which are not common"
   ],
   "cell_type": "markdown",
   "metadata": {}
  },
  {
   "cell_type": "code",
   "execution_count": null,
   "metadata": {},
   "outputs": [],
   "source": [
    "print(A^B)"
   ]
  }
 ]
}